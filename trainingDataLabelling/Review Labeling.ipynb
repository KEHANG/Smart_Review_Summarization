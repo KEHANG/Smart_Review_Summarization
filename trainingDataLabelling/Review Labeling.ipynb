{
 "cells": [
  {
   "cell_type": "code",
   "execution_count": 1,
   "metadata": {
    "collapsed": true
   },
   "outputs": [],
   "source": [
    "import json\n",
    "import nltk\n",
    "import string"
   ]
  },
  {
   "cell_type": "code",
   "execution_count": 2,
   "metadata": {
    "collapsed": false
   },
   "outputs": [
    {
     "name": "stdout",
     "output_type": "stream",
     "text": [
      "This product has 54 reviews.\n"
     ]
    }
   ],
   "source": [
    "product_id = 'B00AW2P98E'\n",
    "reviewFile = open('AmazonReviews/cameras/{0}.json'.format(product_id), 'r')\n",
    "reviews = json.load(reviewFile)\n",
    "\n",
    "print 'This product has {0} reviews.'.format(len(reviews['Reviews']))"
   ]
  },
  {
   "cell_type": "code",
   "execution_count": 3,
   "metadata": {
    "collapsed": true
   },
   "outputs": [],
   "source": [
    "category_dict={\n",
    "    '1':'price',\n",
    "    '2':'pictures',\n",
    "    '3':'video',\n",
    "    '4':'zoom',\n",
    "    '5':'size',\n",
    "    '6':'design',\n",
    "    '7':'battery',\n",
    "    '8':'screen',\n",
    "    '9':'detection',\n",
    "    '10':'ease of use',\n",
    "    '11':'quality',\n",
    "    '12':'other features',\n",
    "    '13':'no feature'\n",
    "}"
   ]
  },
  {
   "cell_type": "code",
   "execution_count": 4,
   "metadata": {
    "collapsed": true
   },
   "outputs": [],
   "source": [
    "def getSentencesFromReview(reviewContent):\n",
    "    \"\"\"\n",
    "    INPUT: a single review consist of serveral sentences\n",
    "    OUTPUT: a list of single sentence\n",
    "    \"\"\"\n",
    "    sent_detector = nltk.data.load('tokenizers/punkt/english.pickle')\n",
    "    sentences = sent_detector.tokenize(reviewContent)\n",
    "    # split agglomerated sentences\n",
    "    for m in range(len(sentences)):\n",
    "        subsentences = sentences[m].split('.')\n",
    "        new_sentences = []\n",
    "        new_subsen = subsentences[0]\n",
    "        for n in range(1,len(subsentences)):\n",
    "            if subsentences[n] and (subsentences[n][0] in string.ascii_uppercase):\n",
    "                new_subsen += '.'\n",
    "                new_sentences.append(new_subsen)\n",
    "                new_subsen = subsentences[n]\n",
    "            else:\n",
    "                new_subsen += '.' + subsentences[n]\n",
    "        new_sentences.append(new_subsen)\n",
    "        sentences[m] = new_sentences\n",
    "    # collect all the single sentence into final_sentence list\n",
    "    final_sentences = []\n",
    "    for sentence in sentences:\n",
    "        if isinstance(sentence, list):\n",
    "            final_sentences.extend(sentence)\n",
    "        else:\n",
    "            final_sentences.append(sentence)\n",
    "    return final_sentences"
   ]
  },
  {
   "cell_type": "code",
   "execution_count": 5,
   "metadata": {
    "collapsed": false
   },
   "outputs": [
    {
     "name": "stdout",
     "output_type": "stream",
     "text": [
      "Compact and versatile camera with a 3 inch touch-enabled screen\n",
      "This review has 27 sentences.\n",
      "The Nikon Coolpix S6400 is very small, measuring 3.8 x 2.4 x 1.1 inches and weighs about 5 ounces.1\n",
      "The 12X lens extends from a 35 mm equivalent focal length of 25 mm to 300 mm.1\n",
      "The 1/2.3 inch image sensor is typical of digital cameras of this class.1\n",
      "Because the sensor's low light performance is proportional to its size (generally, the large the sensor, the better its low light sensitivity), this class of camera performs best where there is ample light.1\n",
      "On the other hand, also because of the small sensor size, it becomes possible to design a zoom lens with greater zoom range without prohibitive physical dimensions/weight or cost.1\n",
      "It is amazing that Nikon can squeeze a 12X lens into a case that is just 1.1 inches thick.1\n",
      "The Coolpix S6400 features a touch-sensitive screen that does away with many traditional buttons; only the shutter, movie, play mode, and camera mode buttons are actual physical buttons.1\n",
      "A 3-inch screen can be fitted here mainly because of the minimization of real buttons.1\n",
      "This also leaves very little space to place your thumb when holding the camera; luckily the camera is very light  so it doesn't strain my fingers when taking pictures.1\n",
      "I always tie a hand strap between the camera and its case (not included), so that I can hold the case with my left hand while I take picture with my right hand.1\n",
      "This is a safety arrangement to make sure that I am less likely to drop my camera to the ground when someone inadvertently bumps into me.1\n",
      "Original manufacturer's battery is often very expensive (>$20), so I usually buy new third party battery on eBay.1\n",
      "For the Coolpix S6400, you can typically get two EN-EL19 compatible batteries with free shipping for less than $10.1\n",
      "The EH-69P AC Adapter/Charger included in the camera package is in fact a AC to USB converter, not a standalone battery charger.1\n",
      "This means the battery needs to be charged inside the camera, like so many others.1\n",
      "This problem can be solved with just a little cost.1\n",
      "While Nikon's MH-66 battery charger costs $42.95 retail, you can buy a third party external charger for the S6400 on eBay for $3.99, with free shipping.1\n",
      "There is another model (S6500) that is identical to the S6400 except that it has an additional Wi-Fi file transfer capability.1\n",
      "I bought the S6400 because I don't need this feature and the S6400 has a better bang-for-the-buck.1\n",
      "Update (1/7/2014):After a few weeks of use, I found two somewhat annoying things about the S6400, which prompted me to take off one star from my original 5-star rating of this camera.1.1\n",
      "Upon pressing the on/off button to turn on the camera, I need to wait about 8 seconds before I can press the shutter release to take a picture, so if I see something happening fast and whip out the S6400 to attempt to take a picture, chances are I would miss it.1\n",
      "Moreover, if the camera goes into energy-saving mode after the default 1-minute time (user changeable), it will also take 8 seconds to return the camera to operation capable status.2.1\n",
      "Touch control may not be as accurate and reliable as physical button.1\n",
      "I cannot browse pictures quickly, as the touch interface simply won't allow it, furthermore, navigating a picture after zooming in is slow and unreliable.1\n",
      "Knowing now that the S6400 is not well suited for quick shots, I still like the pictures that the S6400 can produce.1\n",
      "The auto focus lens is fast and sharp, and the colors are very nice.1\n",
      "Pictures taken with flash always look evenly lit and well-exposed.1\n"
     ]
    }
   ],
   "source": [
    "output_string = ''\n",
    "for review in reviews['Reviews'][:1]:\n",
    "    print review['Title']\n",
    "    sentences = getSentencesFromReview(review['Content'])\n",
    "    print 'This review has {0} sentences.'.format(len(sentences))\n",
    "    # start labeling\n",
    "    for sentence in sentences:\n",
    "        category = category_dict[raw_input(sentence)]\n",
    "        output_string += category + '***' + sentence + '\\n'"
   ]
  },
  {
   "cell_type": "code",
   "execution_count": 6,
   "metadata": {
    "collapsed": true
   },
   "outputs": [],
   "source": [
    "output_file = open('{0}_labeled.txt'.format(product_id), 'w')\n",
    "output_file.write(output_string)\n",
    "output_file.close()"
   ]
  },
  {
   "cell_type": "markdown",
   "metadata": {},
   "source": [
    " "
   ]
  }
 ],
 "metadata": {
  "kernelspec": {
   "display_name": "Python 2",
   "language": "python",
   "name": "python2"
  },
  "language_info": {
   "codemirror_mode": {
    "name": "ipython",
    "version": 2
   },
   "file_extension": ".py",
   "mimetype": "text/x-python",
   "name": "python",
   "nbconvert_exporter": "python",
   "pygments_lexer": "ipython2",
   "version": "2.7.11"
  }
 },
 "nbformat": 4,
 "nbformat_minor": 0
}
