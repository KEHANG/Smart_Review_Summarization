{
 "cells": [
  {
   "cell_type": "code",
   "execution_count": 1,
   "metadata": {
    "collapsed": true
   },
   "outputs": [],
   "source": [
    "import json\n",
    "import nltk\n",
    "import string"
   ]
  },
  {
   "cell_type": "code",
   "execution_count": 2,
   "metadata": {
    "collapsed": true
   },
   "outputs": [],
   "source": [
    "def getSentencesFromReview(reviewContent):\n",
    "    \"\"\"\n",
    "    INPUT: a single review consist of serveral sentences\n",
    "    OUTPUT: a list of single sentence\n",
    "    \"\"\"\n",
    "    sent_detector = nltk.data.load('tokenizers/punkt/english.pickle')\n",
    "    sentences = sent_detector.tokenize(reviewContent)\n",
    "    # split agglomerated sentences\n",
    "    for m in range(len(sentences)):\n",
    "        subsentences = sentences[m].split('.')\n",
    "        new_sentences = []\n",
    "        new_subsen = subsentences[0]\n",
    "        for n in range(1,len(subsentences)):\n",
    "            if subsentences[n] and (subsentences[n][0] in string.ascii_uppercase):\n",
    "                new_subsen += '.'\n",
    "                new_sentences.append(new_subsen)\n",
    "                new_subsen = subsentences[n]\n",
    "            else:\n",
    "                new_subsen += '.' + subsentences[n]\n",
    "        new_sentences.append(new_subsen)\n",
    "        sentences[m] = new_sentences\n",
    "    # collect all the single sentence into final_sentence list\n",
    "    final_sentences = []\n",
    "    for sentence in sentences:\n",
    "        if isinstance(sentence, list):\n",
    "            final_sentences.extend(sentence)\n",
    "        else:\n",
    "            final_sentences.append(sentence)\n",
    "    return final_sentences"
   ]
  },
  {
   "cell_type": "code",
   "execution_count": 3,
   "metadata": {
    "collapsed": true
   },
   "outputs": [],
   "source": [
    "category_dict={\n",
    "    '1':'price',\n",
    "    '2':'pictures',\n",
    "    '3':'video',\n",
    "    '4':'zoom',\n",
    "    '5':'size',\n",
    "    '6':'design',\n",
    "    '7':'battery',\n",
    "    '8':'screen',\n",
    "    '9':'detection',\n",
    "    '10':'ease of use',\n",
    "    '11':'quality',\n",
    "    '12':'other features',\n",
    "    '13':'no feature'\n",
    "}"
   ]
  },
  {
   "cell_type": "markdown",
   "metadata": {},
   "source": [
    "## s1: Specify filename (product id)"
   ]
  },
  {
   "cell_type": "code",
   "execution_count": 4,
   "metadata": {
    "collapsed": false
   },
   "outputs": [
    {
     "name": "stdout",
     "output_type": "stream",
     "text": [
      "This product has 45 reviews.\n"
     ]
    }
   ],
   "source": [
    "product_id = 'B00AQ2BU7E'\n",
    "reviewFile = open('../data/trainingFiles/AmazonReviews/cameras/{0}.json'.format(product_id), 'r')\n",
    "reviews = json.load(reviewFile)\n",
    "\n",
    "print 'This product has {0} reviews.'.format(len(reviews['Reviews']))"
   ]
  },
  {
   "cell_type": "markdown",
   "metadata": {},
   "source": [
    "## s2: Label sentences by review"
   ]
  },
  {
   "cell_type": "code",
   "execution_count": 43,
   "metadata": {
    "collapsed": true
   },
   "outputs": [],
   "source": [
    "# specify the review index you want to label\n",
    "n = 0"
   ]
  },
  {
   "cell_type": "code",
   "execution_count": 44,
   "metadata": {
    "collapsed": false
   },
   "outputs": [
    {
     "name": "stdout",
     "output_type": "stream",
     "text": [
      "Very Disappointed\n",
      "This review has 25 sentences.\n",
      "I had read reviews for this camera in many places.13\n",
      "Most of them were really good so I decided to try it.16 megapixel and 24x optical zoom.4\n",
      "Now I am not a camera expert, but I do feel like I can use a camera reasonably well and I am used to using different settings.13\n",
      "I can use a camera beyond just point and shoot.13\n",
      "The first pictures I took were in my livingroom.13\n",
      "I wasn't impressed with the focus and lighting.2\n",
      "So I tried using flash, no flash, indoor setting, auto setting .13\n",
      ".13\n",
      "hmmmWell, it was time to go to my daughter's school concert.13\n",
      "At the school the kids faces all turned out yellow, I had one picture turn out and I don't know why that one did.2\n",
      "(I even brought it home and took the sd card out to look at it on my computer to see if it was just the camera display, nope the pics were terrible).2\n",
      "Then I tried to video.13\n",
      "The faces were yellow on the video too.3\n",
      "But even worse than that, if that's possible, there is NO stabilization!!!2\n",
      "!Also, when you zoom in and out it does not stay focused and has to re-adjust the focus constantly!4\n",
      "So in the middle on the video there is blurry spots where the camera was refocusing.3\n",
      "Sometimes school events are hard to take pictures at due to the lighting (it was in the gym & I was in the front row)So I tried again at home.2\n",
      "I had my daughter stand by her granddad.13\n",
      "He turned out clear her face was blurry.2\n",
      "I manually adjusted the exposure and ISO bypassing all the presets.13\n",
      "That sort of helped.13\n",
      "I did not try the camera outdoors.13\n",
      "I know some cameras that don't do well indoors do great outside.13\n",
      "The next day I reset all the factory settings and tried one last time to take a picture in the kitchen of my daughter, it was so blurry.13\n",
      "That was it, packed it up and took it back.13\n"
     ]
    }
   ],
   "source": [
    "output_string = ''\n",
    "for review in reviews['Reviews'][n:n+1]:\n",
    "    print review['Title']\n",
    "    sentences = getSentencesFromReview(review['Content'])\n",
    "    print 'This review has {0} sentences.'.format(len(sentences))\n",
    "    # start labeling\n",
    "    for sentence in sentences:\n",
    "        category = category_dict[raw_input(sentence)]\n",
    "        output_string += category + '***' + sentence + '\\n'\n",
    "    # save to file\n",
    "    output_file = open('{0}_labeled.txt'.format(product_id), 'a')\n",
    "    output_file.write(output_string)\n",
    "    output_file.close()"
   ]
  },
  {
   "cell_type": "code",
   "execution_count": null,
   "metadata": {
    "collapsed": true
   },
   "outputs": [],
   "source": []
  },
  {
   "cell_type": "markdown",
   "metadata": {},
   "source": [
    " "
   ]
  }
 ],
 "metadata": {
  "kernelspec": {
   "display_name": "Python 2",
   "language": "python",
   "name": "python2"
  },
  "language_info": {
   "codemirror_mode": {
    "name": "ipython",
    "version": 2
   },
   "file_extension": ".py",
   "mimetype": "text/x-python",
   "name": "python",
   "nbconvert_exporter": "python",
   "pygments_lexer": "ipython2",
   "version": "2.7.11"
  }
 },
 "nbformat": 4,
 "nbformat_minor": 0
}
