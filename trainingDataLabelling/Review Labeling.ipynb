{
 "cells": [
  {
   "cell_type": "code",
   "execution_count": 4,
   "metadata": {
    "collapsed": true
   },
   "outputs": [],
   "source": [
    "import json\n",
    "import nltk\n",
    "import string"
   ]
  },
  {
   "cell_type": "code",
   "execution_count": 5,
   "metadata": {
    "collapsed": true
   },
   "outputs": [],
   "source": [
    "def getSentencesFromReview(reviewContent):\n",
    "    \"\"\"\n",
    "    INPUT: a single review consist of serveral sentences\n",
    "    OUTPUT: a list of single sentence\n",
    "    \"\"\"\n",
    "    sent_detector = nltk.data.load('tokenizers/punkt/english.pickle')\n",
    "    sentences = sent_detector.tokenize(reviewContent)\n",
    "    # split agglomerated sentences\n",
    "    for m in range(len(sentences)):\n",
    "        subsentences = sentences[m].split('.')\n",
    "        new_sentences = []\n",
    "        new_subsen = subsentences[0]\n",
    "        for n in range(1,len(subsentences)):\n",
    "            if subsentences[n] and (subsentences[n][0] in string.ascii_uppercase):\n",
    "                new_subsen += '.'\n",
    "                new_sentences.append(new_subsen)\n",
    "                new_subsen = subsentences[n]\n",
    "            else:\n",
    "                new_subsen += '.' + subsentences[n]\n",
    "        new_sentences.append(new_subsen)\n",
    "        sentences[m] = new_sentences\n",
    "    # collect all the single sentence into final_sentence list\n",
    "    final_sentences = []\n",
    "    for sentence in sentences:\n",
    "        if isinstance(sentence, list):\n",
    "            final_sentences.extend(sentence)\n",
    "        else:\n",
    "            final_sentences.append(sentence)\n",
    "    return final_sentences"
   ]
  },
  {
   "cell_type": "code",
   "execution_count": 6,
   "metadata": {
    "collapsed": true
   },
   "outputs": [],
   "source": [
    "category_dict={\n",
    "    '1':'price',\n",
    "    '2':'pictures',\n",
    "    '3':'video',\n",
    "    '4':'zoom',\n",
    "    '5':'size',\n",
    "    '6':'design',\n",
    "    '7':'battery',\n",
    "    '8':'screen',\n",
    "    '9':'detection',\n",
    "    '10':'ease of use',\n",
    "    '11':'quality',\n",
    "    '12':'other features',\n",
    "    '13':'no feature'\n",
    "}"
   ]
  },
  {
   "cell_type": "markdown",
   "metadata": {},
   "source": [
    "## s1: Specify filename (product id)"
   ]
  },
  {
   "cell_type": "code",
   "execution_count": 7,
   "metadata": {
    "collapsed": false
   },
   "outputs": [
    {
     "name": "stdout",
     "output_type": "stream",
     "text": [
      "This product has 54 reviews.\n"
     ]
    }
   ],
   "source": [
    "product_id = 'B00AW2P98E'\n",
    "reviewFile = open('AmazonReviews/cameras/{0}.json'.format(product_id), 'r')\n",
    "reviews = json.load(reviewFile)\n",
    "\n",
    "print 'This product has {0} reviews.'.format(len(reviews['Reviews']))"
   ]
  },
  {
   "cell_type": "markdown",
   "metadata": {},
   "source": [
    "## s2: Label sentences by review"
   ]
  },
  {
   "cell_type": "code",
   "execution_count": 10,
   "metadata": {
    "collapsed": true
   },
   "outputs": [],
   "source": [
    "# specify the review index you want to label\n",
    "n = 1"
   ]
  },
  {
   "cell_type": "code",
   "execution_count": 11,
   "metadata": {
    "collapsed": false
   },
   "outputs": [
    {
     "name": "stdout",
     "output_type": "stream",
     "text": [
      "This new 6400 is like a Cadilac compared to the 3700 being a horse ...\n",
      "This review has 9 sentences.\n",
      "Nikon 6400.1\n",
      "Bought this to replace a old Nikon 3700. what a difference, the old one did a job over the years, thousands of pic and movies lot of wild life ..1\n",
      "This new 6400 is like a Cadilac compared to the 3700 being a horse and buggy, there is no comparison.1\n",
      "the old said 3x Zoom.1\n",
      "it would not zoom at 25 feet, looked the same as no zoom, I was leary of this one which is 12Xzoom, Oh the old one while in movie would not Zoom, the New one zooms in any mode and It is truly a 12 zoom, will try to attach 2 photos taken at 300 or more feet no zoom and 12 zoom, it does what it says.1\n",
      "clear touch screen, that is a time saver, only had it a few hours and all ready learned a lot, touch screen makes it easy to navigate and change the settings, the old one never did learn how to use all the features and was terribly slow navigation.1\n",
      "Smaller slimmer can't say how much I like this 6400, at $129.00 it is a steal.1\n",
      "By the way some one said charging is crappy, I ordered this from amazon and now have 3 batteries , one with it and the two with a charger, always have one charged, think I paid around $17.00 charger and two batteries at Amazonhere's the link B008UZHDOI5 day's laterBoy practiced on some squirrels at 80 feet, one was setting and one was in full run, both came out perfect, the running shot no blur, both filled the pic like they were 5 feet away,update two months of use, still love it more, But the batteries that I have the link to at amazon, why, because the stock sony battery failed to charge with very little use, the others are great, last forever.1\n",
      "can't seem I can insert a product link so heres the link copy pasteB008UZHDOI1\n"
     ]
    }
   ],
   "source": [
    "output_string = ''\n",
    "for review in reviews['Reviews'][n:n+1]:\n",
    "    print review['Title']\n",
    "    sentences = getSentencesFromReview(review['Content'])\n",
    "    print 'This review has {0} sentences.'.format(len(sentences))\n",
    "    # start labeling\n",
    "    for sentence in sentences:\n",
    "        category = category_dict[raw_input(sentence)]\n",
    "        output_string += category + '***' + sentence + '\\n'\n",
    "    # save to file\n",
    "    output_file = open('{0}_labeled.txt'.format(product_id), 'a')\n",
    "    output_file.write(output_string)\n",
    "    output_file.close()"
   ]
  },
  {
   "cell_type": "code",
   "execution_count": 6,
   "metadata": {
    "collapsed": true
   },
   "outputs": [],
   "source": []
  },
  {
   "cell_type": "markdown",
   "metadata": {},
   "source": [
    " "
   ]
  }
 ],
 "metadata": {
  "kernelspec": {
   "display_name": "Python 2",
   "language": "python",
   "name": "python2"
  },
  "language_info": {
   "codemirror_mode": {
    "name": "ipython",
    "version": 2
   },
   "file_extension": ".py",
   "mimetype": "text/x-python",
   "name": "python",
   "nbconvert_exporter": "python",
   "pygments_lexer": "ipython2",
   "version": "2.7.11"
  }
 },
 "nbformat": 4,
 "nbformat_minor": 0
}
