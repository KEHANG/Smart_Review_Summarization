{
 "cells": [
  {
   "cell_type": "code",
   "execution_count": 1,
   "metadata": {
    "collapsed": true
   },
   "outputs": [],
   "source": [
    "import json\n",
    "import nltk\n",
    "import string"
   ]
  },
  {
   "cell_type": "code",
   "execution_count": 2,
   "metadata": {
    "collapsed": true
   },
   "outputs": [],
   "source": [
    "def getSentencesFromReview(reviewContent):\n",
    "    \"\"\"\n",
    "    INPUT: a single review consist of serveral sentences\n",
    "    OUTPUT: a list of single sentence\n",
    "    \"\"\"\n",
    "    sent_detector = nltk.data.load('tokenizers/punkt/english.pickle')\n",
    "    sentences = sent_detector.tokenize(reviewContent)\n",
    "    # split agglomerated sentences\n",
    "    for m in range(len(sentences)):\n",
    "        subsentences = sentences[m].split('.')\n",
    "        new_sentences = []\n",
    "        new_subsen = subsentences[0]\n",
    "        for n in range(1,len(subsentences)):\n",
    "            if subsentences[n] and (subsentences[n][0] in string.ascii_uppercase):\n",
    "                new_subsen += '.'\n",
    "                new_sentences.append(new_subsen)\n",
    "                new_subsen = subsentences[n]\n",
    "            else:\n",
    "                new_subsen += '.' + subsentences[n]\n",
    "        new_sentences.append(new_subsen)\n",
    "        sentences[m] = new_sentences\n",
    "    # collect all the single sentence into final_sentence list\n",
    "    final_sentences = []\n",
    "    for sentence in sentences:\n",
    "        if isinstance(sentence, list):\n",
    "            final_sentences.extend(sentence)\n",
    "        else:\n",
    "            final_sentences.append(sentence)\n",
    "    return final_sentences"
   ]
  },
  {
   "cell_type": "code",
   "execution_count": 3,
   "metadata": {
    "collapsed": true
   },
   "outputs": [],
   "source": [
    "category_dict={\n",
    "    '1':'price',\n",
    "    '2':'pictures',\n",
    "    '3':'video',\n",
    "    '4':'zoom',\n",
    "    '5':'size',\n",
    "    '6':'design',\n",
    "    '7':'battery',\n",
    "    '8':'screen',\n",
    "    '9':'detection',\n",
    "    '10':'ease of use',\n",
    "    '11':'quality',\n",
    "    '12':'other features',\n",
    "    '13':'no feature'\n",
    "}"
   ]
  },
  {
   "cell_type": "markdown",
   "metadata": {},
   "source": [
    "## s1: Specify filename (product id)"
   ]
  },
  {
   "cell_type": "code",
   "execution_count": 4,
   "metadata": {
    "collapsed": false
   },
   "outputs": [
    {
     "name": "stdout",
     "output_type": "stream",
     "text": [
      "This product has 54 reviews.\n"
     ]
    }
   ],
   "source": [
    "product_id = 'B00AW2P98E'\n",
    "reviewFile = open('AmazonReviews/cameras/{0}.json'.format(product_id), 'r')\n",
    "reviews = json.load(reviewFile)\n",
    "\n",
    "print 'This product has {0} reviews.'.format(len(reviews['Reviews']))"
   ]
  },
  {
   "cell_type": "markdown",
   "metadata": {},
   "source": [
    "## s2: Label sentences by review"
   ]
  },
  {
   "cell_type": "code",
   "execution_count": 35,
   "metadata": {
    "collapsed": true
   },
   "outputs": [],
   "source": [
    "# specify the review index you want to label\n",
    "n = 15"
   ]
  },
  {
   "cell_type": "code",
   "execution_count": 36,
   "metadata": {
    "collapsed": false
   },
   "outputs": [
    {
     "name": "stdout",
     "output_type": "stream",
     "text": [
      "Nikon camera\n",
      "This review has 4 sentences.\n",
      "Got this on the deals of the day bargain and it is a great camera - takes fabulous pictures and movies.2\n",
      "So glad I got this for myself for Christmas - only downside is the touch screen reacts fairly easily which means extra pictures taken w/o meaning to.8\n",
      "Buttons push easily and can cause the camera to take a movie instead of picture.12\n",
      "Otherwise great camera.13\n"
     ]
    }
   ],
   "source": [
    "output_string = ''\n",
    "for review in reviews['Reviews'][n:n+1]:\n",
    "    print review['Title']\n",
    "    sentences = getSentencesFromReview(review['Content'])\n",
    "    print 'This review has {0} sentences.'.format(len(sentences))\n",
    "    # start labeling\n",
    "    for sentence in sentences:\n",
    "        category = category_dict[raw_input(sentence)]\n",
    "        output_string += category + '***' + sentence + '\\n'\n",
    "    # save to file\n",
    "    output_file = open('{0}_labeled.txt'.format(product_id), 'a')\n",
    "    output_file.write(output_string)\n",
    "    output_file.close()"
   ]
  },
  {
   "cell_type": "code",
   "execution_count": 6,
   "metadata": {
    "collapsed": true
   },
   "outputs": [],
   "source": []
  },
  {
   "cell_type": "markdown",
   "metadata": {},
   "source": [
    " "
   ]
  }
 ],
 "metadata": {
  "kernelspec": {
   "display_name": "Python 2",
   "language": "python",
   "name": "python2"
  },
  "language_info": {
   "codemirror_mode": {
    "name": "ipython",
    "version": 2
   },
   "file_extension": ".py",
   "mimetype": "text/x-python",
   "name": "python",
   "nbconvert_exporter": "python",
   "pygments_lexer": "ipython2",
   "version": "2.7.11"
  }
 },
 "nbformat": 4,
 "nbformat_minor": 0
}
