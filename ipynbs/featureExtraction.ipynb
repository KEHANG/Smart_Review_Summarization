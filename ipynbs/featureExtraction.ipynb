{
 "cells": [
  {
   "cell_type": "code",
   "execution_count": 2,
   "metadata": {
    "collapsed": false
   },
   "outputs": [],
   "source": [
    "from nltk import word_tokenize, pos_tag, RegexpParser"
   ]
  },
  {
   "cell_type": "code",
   "execution_count": 3,
   "metadata": {
    "collapsed": false
   },
   "outputs": [],
   "source": [
    "test_text = word_tokenize('Fluke has always been a consistent performer for me -- both the lower end and the medium-end products. This is, essentially, an excellent tool with some annoying software. Image quality is very nice, a bit better than I would expect at this price, with excellent manual focus. Providing users with a number of different automatically loaded color palettes is excellent -- a time saver that allows you to diagnose using the colors/tones that work for you. Activating features through Smart View is surprisingly clunky and \"clicky\" -- it involves too many probably unnecessary steps.')"
   ]
  },
  {
   "cell_type": "code",
   "execution_count": 4,
   "metadata": {
    "collapsed": true
   },
   "outputs": [],
   "source": [
    "tagged = pos_tag(test_text)"
   ]
  },
  {
   "cell_type": "code",
   "execution_count": 6,
   "metadata": {
    "collapsed": false
   },
   "outputs": [
    {
     "name": "stdout",
     "output_type": "stream",
     "text": [
      "(S\n",
      "  Fluke/NNP\n",
      "  has/VBZ\n",
      "  always/RB\n",
      "  been/VBN\n",
      "  a/DT\n",
      "  consistent/JJ\n",
      "  performer/NN\n",
      "  for/IN\n",
      "  me/PRP\n",
      "  --/:\n",
      "  both/DT\n",
      "  the/DT\n",
      "  lower/JJR\n",
      "  end/NN\n",
      "  and/CC\n",
      "  the/DT\n",
      "  medium-end/JJ\n",
      "  products/NNS\n",
      "  ./.\n",
      "  This/DT\n",
      "  is/VBZ\n",
      "  ,/,\n",
      "  essentially/RB\n",
      "  ,/,\n",
      "  an/DT\n",
      "  excellent/JJ\n",
      "  tool/NN\n",
      "  (Chunk with/IN some/DT annoying/VBG software/NN)\n",
      "  ./.\n",
      "  Image/NNP\n",
      "  quality/NN\n",
      "  is/VBZ\n",
      "  very/RB\n",
      "  nice/JJ\n",
      "  ,/,\n",
      "  a/DT\n",
      "  bit/NN\n",
      "  better/RBR\n",
      "  than/IN\n",
      "  I/PRP\n",
      "  would/MD\n",
      "  expect/VB\n",
      "  at/IN\n",
      "  this/DT\n",
      "  price/NN\n",
      "  ,/,\n",
      "  with/IN\n",
      "  excellent/JJ\n",
      "  manual/JJ\n",
      "  focus/NN\n",
      "  ./.\n",
      "  Providing/VBG\n",
      "  users/NNS\n",
      "  with/IN\n",
      "  a/DT\n",
      "  number/NN\n",
      "  of/IN\n",
      "  different/JJ\n",
      "  automatically/RB\n",
      "  loaded/VBN\n",
      "  color/NN\n",
      "  palettes/NNS\n",
      "  is/VBZ\n",
      "  excellent/JJ\n",
      "  --/:\n",
      "  a/DT\n",
      "  time/NN\n",
      "  saver/NN\n",
      "  that/WDT\n",
      "  allows/VBZ\n",
      "  you/PRP\n",
      "  to/TO\n",
      "  diagnose/VB\n",
      "  using/VBG\n",
      "  the/DT\n",
      "  colors/tones/NNS\n",
      "  that/WDT\n",
      "  work/VBP\n",
      "  for/IN\n",
      "  you/PRP\n",
      "  ./.\n",
      "  Activating/VBG\n",
      "  features/NNS\n",
      "  through/IN\n",
      "  Smart/NNP\n",
      "  View/NNP\n",
      "  is/VBZ\n",
      "  surprisingly/RB\n",
      "  clunky/JJ\n",
      "  and/CC\n",
      "  ``/``\n",
      "  clicky/JJ\n",
      "  ''/''\n",
      "  --/:\n",
      "  it/PRP\n",
      "  involves/VBZ\n",
      "  too/RB\n",
      "  many/JJ\n",
      "  probably/RB\n",
      "  unnecessary/JJ\n",
      "  steps/NNS\n",
      "  ./.)\n"
     ]
    }
   ],
   "source": [
    "chunkGram = r\"\"\"Chunk1:{<IN><DT><VBG><NN>}\"\"\"\n",
    "chunkParser = RegexpParser(chunkGram)\n",
    "chunked = chunkParser.parse(tagged)\n",
    "print(chunked)"
   ]
  },
  {
   "cell_type": "code",
   "execution_count": null,
   "metadata": {
    "collapsed": true
   },
   "outputs": [],
   "source": []
  }
 ],
 "metadata": {
  "kernelspec": {
   "display_name": "Python 2",
   "language": "python",
   "name": "python2"
  },
  "language_info": {
   "codemirror_mode": {
    "name": "ipython",
    "version": 2
   },
   "file_extension": ".py",
   "mimetype": "text/x-python",
   "name": "python",
   "nbconvert_exporter": "python",
   "pygments_lexer": "ipython2",
   "version": "2.7.11"
  }
 },
 "nbformat": 4,
 "nbformat_minor": 0
}
