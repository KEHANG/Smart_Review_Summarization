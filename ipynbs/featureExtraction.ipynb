{
 "cells": [
  {
   "cell_type": "code",
   "execution_count": 1,
   "metadata": {
    "collapsed": true
   },
   "outputs": [],
   "source": [
    "import sys\n",
    "sys.path.insert(0,'../')"
   ]
  },
  {
   "cell_type": "code",
   "execution_count": 2,
   "metadata": {
    "collapsed": false
   },
   "outputs": [],
   "source": [
    "from utilities import Product, AspectPattern"
   ]
  },
  {
   "cell_type": "code",
   "execution_count": 3,
   "metadata": {
    "collapsed": false
   },
   "outputs": [],
   "source": [
    "# load training data\n",
    "product_name = 'Nokia'\n",
    "reviewTrainingFile = product_name + '.txt'\n",
    "product = Product(name=product_name)\n",
    "product.loadReviewsFromTrainingFile('../data/trainingFiles/' + reviewTrainingFile)"
   ]
  },
  {
   "cell_type": "code",
   "execution_count": 4,
   "metadata": {
    "collapsed": true
   },
   "outputs": [],
   "source": [
    "aspectPatterns = []\n",
    "# define an aspect pattern1\n",
    "pattern_name = 'adj_nn'\n",
    "pattern_structure =\"\"\"\n",
    "adj_nn:{<JJ><NN>}\n",
    "\"\"\"\n",
    "aspectTagIndices = [1]\n",
    "aspectPattern = AspectPattern(name='adj_nn', structure=pattern_structure, aspectTagIndices=aspectTagIndices)\n",
    "aspectPatterns.append(aspectPattern)\n",
    "# define an aspect pattern2\n",
    "pattern_name = 'nn_nn'\n",
    "pattern_structure =\"\"\"\n",
    "nn_nn:{<NN><NN>}\n",
    "\"\"\"\n",
    "aspectTagIndices = [0,1]\n",
    "aspectPattern = AspectPattern(name='nn_nn', structure=pattern_structure, aspectTagIndices=aspectTagIndices)\n",
    "aspectPatterns.append(aspectPattern)"
   ]
  },
  {
   "cell_type": "code",
   "execution_count": 5,
   "metadata": {
    "collapsed": false
   },
   "outputs": [
    {
     "name": "stdout",
     "output_type": "stream",
     "text": [
      "i am a business user who heavily depend on mobile service . \n",
      "\n",
      "aspect candidate found by adj_nn: service\n",
      "aspect candidate found by nn_nn: business user\n",
      "there is much which has been said in other reviews about the features of this phone , it is a great phone , mine worked without any problems right out of the box . \n",
      "\n",
      "aspect candidate found by adj_nn: phone\n",
      "just double check with customer service to ensure the number provided by amazon is for the city / exchange you wanted . \n",
      "\n",
      "aspect candidate found by nn_nn: customer service\n",
      "after several years of torture in the hands of at&t customer service i am delighted to drop them , and look forward to august 2004 when i will convert our other 3 family-phones from at&t to t-mobile ! \n",
      "\n",
      "aspect candidate found by nn_nn: customer service\n",
      "i have had the phone for 1 week , the signal quality has been great in the detroit area ( suburbs ) and in my recent road trip between detroit and northern kentucky ( cincinnati ) i experienced perfect signal and reception along i-75 , far superior to at &#38; t 's which does not work along several long stretches on that same route . \n",
      "\n",
      "aspect candidate found by adj_nn: quality\n",
      "aspect candidate found by adj_nn: area\n",
      "aspect candidate found by adj_nn: road\n",
      "aspect candidate found by adj_nn: signal\n",
      "aspect candidate found by adj_nn: route\n",
      "aspect candidate found by nn_nn: road trip\n",
      "i have owned motorola , panasonic and nokia phones over the last 8 years and generally prefer nokia , this phone combines many of the best nokia features , the only feature missing for me is the voice recognition . \n",
      "\n",
      "aspect candidate found by adj_nn: feature\n",
      "aspect candidate found by nn_nn: voice recognition\n",
      "my favorite features , although there are many , are the speaker phone , the radio and the infrared . \n",
      "\n",
      "aspect candidate found by nn_nn: speaker phone\n",
      "the speaker phone is very functional and i use it in the car , very audible even with freeway noise . \n",
      "\n",
      "aspect candidate found by adj_nn: use\n",
      "aspect candidate found by adj_nn: noise\n",
      "aspect candidate found by nn_nn: speaker phone\n",
      "the infrared is a blessing if you have a previous nokia and want to transfer your old phone book to this phone , saved me hours of re-entering my numbers . \n",
      "\n",
      "aspect candidate found by adj_nn: nokia\n",
      "aspect candidate found by adj_nn: phone\n",
      "aspect candidate found by nn_nn: phone book\n",
      "the combination of the nokia 6610 and t-mobile service ( signal , price , service ) is a winner , i highly recommend it . \n",
      "\n",
      "aspect candidate found by adj_nn: service\n"
     ]
    }
   ],
   "source": [
    "# pos tagging\n",
    "review0 = product.reviews[0]\n",
    "for sentence in review0.sentences:\n",
    "    sentence.pos_tag()\n",
    "    print sentence.content\n",
    "    sentence.matchDaynamicAspectPatterns(aspectPatterns)"
   ]
  },
  {
   "cell_type": "code",
   "execution_count": 6,
   "metadata": {
    "collapsed": false
   },
   "outputs": [
    {
     "name": "stdout",
     "output_type": "stream",
     "text": [
      "i am a business user who heavily depend on mobile service . \r\n",
      "\n",
      "[u'service', u'business user']\n",
      "real aspect: \n",
      "********************\n",
      "there is much which has been said in other reviews about the features of this phone , it is a great phone , mine worked without any problems right out of the box . \r\n",
      "\n",
      "[u'phone']\n",
      "real aspect: phone[+3]\n",
      "********************\n",
      "just double check with customer service to ensure the number provided by amazon is for the city / exchange you wanted . \r\n",
      "\n",
      "[u'customer service']\n",
      "real aspect: \n",
      "********************\n",
      "after several years of torture in the hands of at&t customer service i am delighted to drop them , and look forward to august 2004 when i will convert our other 3 family-phones from at&t to t-mobile ! \r\n",
      "\n",
      "[u'customer service']\n",
      "real aspect: at&t customer service[-2]\n",
      "********************\n",
      "i have had the phone for 1 week , the signal quality has been great in the detroit area ( suburbs ) and in my recent road trip between detroit and northern kentucky ( cincinnati ) i experienced perfect signal and reception along i-75 , far superior to at &#38; t 's which does not work along several long stretches on that same route . \r\n",
      "\n",
      "[u'quality', u'area', u'road', u'signal', u'route', u'road trip']\n",
      "real aspect: signal quality[+3]\n",
      "********************\n",
      "i have owned motorola , panasonic and nokia phones over the last 8 years and generally prefer nokia , this phone combines many of the best nokia features , the only feature missing for me is the voice recognition . \r\n",
      "\n",
      "[u'feature', u'voice recognition']\n",
      "real aspect: \n",
      "********************\n",
      "my favorite features , although there are many , are the speaker phone , the radio and the infrared . \r\n",
      "\n",
      "[u'speaker phone']\n",
      "real aspect: speaker phone[+2],radio[+2],infrared[+2]\n",
      "********************\n",
      "the speaker phone is very functional and i use it in the car , very audible even with freeway noise . \r\n",
      "\n",
      "[u'use', u'noise', u'speaker phone']\n",
      "real aspect: speaker phone[+2]\n",
      "********************\n",
      "the infrared is a blessing if you have a previous nokia and want to transfer your old phone book to this phone , saved me hours of re-entering my numbers . \r\n",
      "\n",
      "[u'nokia', u'phone', u'phone book']\n",
      "real aspect: infrared[+2]\n",
      "********************\n",
      "the combination of the nokia 6610 and t-mobile service ( signal , price , service ) is a winner , i highly recommend it . \r\n",
      "\n",
      "[u'service']\n",
      "real aspect: \n",
      "********************\n"
     ]
    }
   ],
   "source": [
    "for sentence in review0.sentences:\n",
    "    print sentence.content\n",
    "    print sentence.dynamic_aspects\n",
    "    print 'real aspect: ' + sentence.aspects[0]\n",
    "    print '********************'"
   ]
  },
  {
   "cell_type": "code",
   "execution_count": null,
   "metadata": {
    "collapsed": true
   },
   "outputs": [],
   "source": [
    "f"
   ]
  }
 ],
 "metadata": {
  "kernelspec": {
   "display_name": "Python 2",
   "language": "python",
   "name": "python2"
  },
  "language_info": {
   "codemirror_mode": {
    "name": "ipython",
    "version": 2
   },
   "file_extension": ".py",
   "mimetype": "text/x-python",
   "name": "python",
   "nbconvert_exporter": "python",
   "pygments_lexer": "ipython2",
   "version": "2.7.11"
  }
 },
 "nbformat": 4,
 "nbformat_minor": 0
}
