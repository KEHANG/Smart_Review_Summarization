{
 "cells": [
  {
   "cell_type": "code",
   "execution_count": 1,
   "metadata": {
    "collapsed": false
   },
   "outputs": [],
   "source": [
    "import os\n",
    "from srs.utilities import Sentence\n",
    "from srs.maxEntropyModel import load_labelled_sent, loadDynamicAspectList, train, cond_prob\n",
    "from srs.predictor import StaticPredictor\n",
    "import matplotlib.pyplot as plt\n",
    "import numpy as np\n",
    "import json\n",
    "%matplotlib inline "
   ]
  },
  {
   "cell_type": "markdown",
   "metadata": {},
   "source": [
    "## Loading stemmed dynamic aspects"
   ]
  },
  {
   "cell_type": "code",
   "execution_count": 2,
   "metadata": {
    "collapsed": false
   },
   "outputs": [],
   "source": [
    "stemmed_dynamic_data_dir = os.path.abspath('../data/word_list/')\n",
    "\n",
    "stemmed_dynamic_dict = {}\n",
    "for data_file in os.listdir(stemmed_dynamic_data_dir):\n",
    "    if data_file.endswith('stemmedwordlist.txt'):\n",
    "        file_open = open(os.path.join(stemmed_dynamic_data_dir, data_file), 'r')\n",
    "        stemmed_wordlist = json.load(file_open)\n",
    "        for sublist in stemmed_wordlist:\n",
    "            stemmed_dynamic_aspect = sublist[0]\n",
    "            stemmed_dynamic_aspect_count = sublist[1]\n",
    "            if stemmed_dynamic_aspect in stemmed_dynamic_dict:\n",
    "                stemmed_dynamic_dict[stemmed_dynamic_aspect] += stemmed_dynamic_aspect_count\n",
    "            else:\n",
    "                stemmed_dynamic_dict[stemmed_dynamic_aspect] = stemmed_dynamic_aspect_count"
   ]
  },
  {
   "cell_type": "code",
   "execution_count": 3,
   "metadata": {
    "collapsed": false
   },
   "outputs": [],
   "source": [
    "#sorting\n",
    "dynamic_tups_sorted = sorted(stemmed_dynamic_dict.items(), key=lambda tup: -tup[1])\n",
    "dynamic_label_sorted = [tup[0] for tup in dynamic_tups_sorted]\n",
    "dynamic_count_sorted = [tup[1] for tup in dynamic_tups_sorted]"
   ]
  },
  {
   "cell_type": "markdown",
   "metadata": {},
   "source": [
    "## Loading training sentences"
   ]
  },
  {
   "cell_type": "code",
   "execution_count": 4,
   "metadata": {
    "collapsed": false
   },
   "outputs": [],
   "source": [
    "static_traning_data_dir = os.path.abspath('../srs/static_training_data/')\n",
    "\n",
    "sentences = []\n",
    "for data_file in os.listdir(static_traning_data_dir):\n",
    "    if data_file.endswith('labeled.txt'):\n",
    "        sentences.extend(load_labelled_sent(os.path.join(static_traning_data_dir, data_file)))"
   ]
  },
  {
   "cell_type": "markdown",
   "metadata": {},
   "source": [
    "## Statistical analysis on training data"
   ]
  },
  {
   "cell_type": "code",
   "execution_count": 5,
   "metadata": {
    "collapsed": false
   },
   "outputs": [
    {
     "data": {
      "image/png": "[encoded data removed]",
      "text/plain": [
       "<matplotlib.figure.Figure at 0x108bc5e90>"
      ]
     },
     "metadata": {},
     "output_type": "display_data"
    }
   ],
   "source": [
    "# static aspect counting\n",
    "static_label_dict = {}\n",
    "for sentence in sentences:\n",
    "    if sentence.labeled_aspects not in static_label_dict:\n",
    "        static_label_dict[sentence.labeled_aspects] = 1\n",
    "    else:\n",
    "        static_label_dict[sentence.labeled_aspects] += 1\n",
    "\n",
    "#sorting\n",
    "static_label_tups_sorted = sorted(static_label_dict.items(), key=lambda tup: -tup[1])\n",
    "static_label_sorted = [tup[0] for tup in static_label_tups_sorted]\n",
    "static_count_sorted = [tup[1] for tup in static_label_tups_sorted]\n",
    "\n",
    "ind = np.arange(len(static_label_sorted))\n",
    "width = 0.6\n",
    "heights = static_count_sorted\n",
    "\n",
    "plt.figure(figsize=[10,6])\n",
    "ax = plt.gca()\n",
    "ax.bar(ind, heights, width, color='r')\n",
    "ax.set_xticks(ind+width/2)\n",
    "ticks = ax.set_xticklabels(static_label_sorted, rotation=90)\n",
    "plt.ylabel(u'Number of Sentences')\n",
    "\n",
    "# set plotting params\n",
    "plt.rcParams['font.size'] = 18\n",
    "plt.rcParams['font.family'] = 'Helvetica'\n",
    "plt.rcParams['xtick.labelsize'] = plt.rcParams['font.size']\n",
    "plt.rcParams['ytick.labelsize'] = plt.rcParams['font.size']\n",
    "    "
   ]
  },
  {
   "cell_type": "markdown",
   "metadata": {},
   "source": [
    "## Predicting"
   ]
  },
  {
   "cell_type": "code",
   "execution_count": 6,
   "metadata": {
    "collapsed": true
   },
   "outputs": [],
   "source": [
    "# set up predictor\n",
    "staticPredictor = StaticPredictor()\n",
    "params_file = '../srs/predictor_data/lambda_opt.txt'\n",
    "static_aspect_list_file = '../srs/predictor_data/static_aspect_list.txt'\n",
    "staticPredictor.loadParams(params_file)\n",
    "staticPredictor.loadStaticAspectList(static_aspect_list_file)"
   ]
  },
  {
   "cell_type": "code",
   "execution_count": 35,
   "metadata": {
    "collapsed": false
   },
   "outputs": [],
   "source": [
    "validation_set = sentences[:]\n",
    "correct = 0.0\n",
    "correct_dict = {}\n",
    "incorrect_dict = {}\n",
    "expect_dict = {}\n",
    "for sentence in validation_set:\n",
    "    predicted_aspect = staticPredictor.predict(sentence, cp_threshold=0)\n",
    "    if predicted_aspect == sentence.labeled_aspects:\n",
    "        correct += 1\n",
    "        if predicted_aspect not in correct_dict:\n",
    "            correct_dict[predicted_aspect] = [sentence]\n",
    "        else:\n",
    "            correct_dict[predicted_aspect].append(sentence)\n",
    "    else:\n",
    "        if predicted_aspect not in incorrect_dict:\n",
    "            incorrect_dict[predicted_aspect] = [sentence]\n",
    "        else:\n",
    "            incorrect_dict[predicted_aspect].append(sentence)\n",
    "        \n",
    "        if sentence.labeled_aspects not in expect_dict:\n",
    "            expect_dict[sentence.labeled_aspects] = [sentence]\n",
    "        else:\n",
    "            expect_dict[sentence.labeled_aspects].append(sentence)\n",
    "        "
   ]
  },
  {
   "cell_type": "code",
   "execution_count": 40,
   "metadata": {
    "collapsed": false
   },
   "outputs": [
    {
     "name": "stdout",
     "output_type": "stream",
     "text": [
      "Precision:\n",
      "-----------\n",
      "battery\n",
      "0.725490196078\n",
      "pictures\n",
      "0.464601769912\n",
      "screen\n",
      "0.722222222222\n",
      "no feature\n",
      "0.545253863135\n",
      "zoom\n",
      "0.718309859155\n",
      "design\n",
      "0.666666666667\n",
      "other features\n",
      "0.477272727273\n",
      "ease of use\n",
      "0.533333333333\n",
      "price\n",
      "0.0195599022005\n",
      "size\n",
      "0.636363636364\n"
     ]
    }
   ],
   "source": [
    "print \"Precision:\"\n",
    "print '-----------'\n",
    "for aspect in correct_dict:\n",
    "    print aspect\n",
    "    print len(correct_dict[aspect])*1.0/(len(correct_dict[aspect]) + len(incorrect_dict[aspect]))"
   ]
  },
  {
   "cell_type": "code",
   "execution_count": 41,
   "metadata": {
    "collapsed": false
   },
   "outputs": [
    {
     "name": "stdout",
     "output_type": "stream",
     "text": [
      "Recall:\n",
      "----------\n",
      "battery\n",
      "0.513888888889\n",
      "pictures\n",
      "0.589887640449\n",
      "screen\n",
      "0.672413793103\n",
      "no feature\n",
      "0.41512605042\n",
      "zoom\n",
      "0.495145631068\n",
      "design\n",
      "0.176470588235\n",
      "other features\n",
      "0.341463414634\n",
      "ease of use\n",
      "0.0963855421687\n",
      "price\n",
      "0.242424242424\n",
      "size\n",
      "0.2625\n"
     ]
    }
   ],
   "source": [
    "print \"Recall:\"\n",
    "print \"----------\"\n",
    "for aspect in correct_dict:\n",
    "    print aspect\n",
    "    print len(correct_dict[aspect])*1.0/(len(correct_dict[aspect]) + len(expect_dict[aspect]))"
   ]
  },
  {
   "cell_type": "code",
   "execution_count": 43,
   "metadata": {
    "collapsed": false
   },
   "outputs": [
    {
     "name": "stdout",
     "output_type": "stream",
     "text": [
      "409\n"
     ]
    }
   ],
   "source": [
    "aspect = \"price\"\n",
    "print len(correct_dict[aspect]) + len(incorrect_dict[aspect])"
   ]
  },
  {
   "cell_type": "markdown",
   "metadata": {},
   "source": [
    "## Practical scheme summary\n",
    "\n",
    "In prediction phase, if `max(cp)` is higher than 50%, we choose the static aspect corresponding to `max(cp)`, OTHERWISE, we choose `no feature`, which means we will discard this sentence when doing sentiment analysis."
   ]
  },
  {
   "cell_type": "code",
   "execution_count": null,
   "metadata": {
    "collapsed": true
   },
   "outputs": [],
   "source": []
  }
 ],
 "metadata": {
  "kernelspec": {
   "display_name": "Python 2",
   "language": "python",
   "name": "python2"
  },
  "language_info": {
   "codemirror_mode": {
    "name": "ipython",
    "version": 2
   },
   "file_extension": ".py",
   "mimetype": "text/x-python",
   "name": "python",
   "nbconvert_exporter": "python",
   "pygments_lexer": "ipython2",
   "version": "2.7.11"
  }
 },
 "nbformat": 4,
 "nbformat_minor": 0
}
