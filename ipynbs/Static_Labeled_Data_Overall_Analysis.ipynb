{
 "cells": [
  {
   "cell_type": "code",
   "execution_count": 20,
   "metadata": {
    "collapsed": false
   },
   "outputs": [],
   "source": [
    "import os\n",
    "from srs.utilities import Sentence\n",
    "from srs.maxEntropyModel import load_labelled_sent, loadWordListDict, train, cond_prob, loadUsefulTrainingData\n",
    "from srs.predictor import StaticPredictor\n",
    "import matplotlib.pyplot as plt\n",
    "import numpy as np\n",
    "import json\n",
    "%matplotlib inline "
   ]
  },
  {
   "cell_type": "markdown",
   "metadata": {},
   "source": [
    "## Loading training sentences"
   ]
  },
  {
   "cell_type": "code",
   "execution_count": 2,
   "metadata": {
    "collapsed": false
   },
   "outputs": [],
   "source": [
    "static_traning_data_dir = os.path.abspath('../srs/static_training_data/')\n",
    "\n",
    "sentences = loadUsefulTrainingData(static_traning_data_dir)"
   ]
  },
  {
   "cell_type": "markdown",
   "metadata": {},
   "source": [
    "## Statistical analysis on training data"
   ]
  },
  {
   "cell_type": "code",
   "execution_count": 3,
   "metadata": {
    "collapsed": false
   },
   "outputs": [
    {
     "data": {
      "image/png": "[encoded data removed]",
      "text/plain": [
       "<matplotlib.figure.Figure at 0x1093ed290>"
      ]
     },
     "metadata": {},
     "output_type": "display_data"
    }
   ],
   "source": [
    "# static aspect counting\n",
    "static_label_dict = {}\n",
    "for sentence in sentences:\n",
    "    if sentence.labeled_aspects not in static_label_dict:\n",
    "        static_label_dict[sentence.labeled_aspects] = 1\n",
    "    else:\n",
    "        static_label_dict[sentence.labeled_aspects] += 1\n",
    "\n",
    "#sorting\n",
    "static_label_tups_sorted = sorted(static_label_dict.items(), key=lambda tup: -tup[1])\n",
    "static_label_sorted = [tup[0] for tup in static_label_tups_sorted]\n",
    "static_count_sorted = [tup[1] for tup in static_label_tups_sorted]\n",
    "\n",
    "ind = np.arange(len(static_label_sorted))\n",
    "width = 0.6\n",
    "heights = static_count_sorted\n",
    "\n",
    "plt.figure(figsize=[10,6])\n",
    "ax = plt.gca()\n",
    "ax.bar(ind, heights, width, color='r')\n",
    "ax.set_xticks(ind+width/2)\n",
    "ticks = ax.set_xticklabels(static_label_sorted, rotation=90)\n",
    "plt.ylabel(u'Number of Sentences')\n",
    "\n",
    "# set plotting params\n",
    "plt.rcParams['font.size'] = 18\n",
    "plt.rcParams['font.family'] = 'Helvetica'\n",
    "plt.rcParams['xtick.labelsize'] = plt.rcParams['font.size']\n",
    "plt.rcParams['ytick.labelsize'] = plt.rcParams['font.size']\n",
    "    "
   ]
  },
  {
   "cell_type": "markdown",
   "metadata": {},
   "source": [
    "## Predicting"
   ]
  },
  {
   "cell_type": "code",
   "execution_count": 11,
   "metadata": {
    "collapsed": false
   },
   "outputs": [
    {
     "name": "stdout",
     "output_type": "stream",
     "text": [
      "wordlist_dict has 11 keys.\n"
     ]
    }
   ],
   "source": [
    "# set up predictor\n",
    "staticPredictor = StaticPredictor()\n",
    "params_file = '../srs/predictor_data/lambda_opt_1.txt'\n",
    "static_aspect_list_file = '../srs/predictor_data/static_aspect_list.txt'\n",
    "staticPredictor.loadParams(params_file)\n",
    "staticPredictor.loadStaticAspectList(static_aspect_list_file)\n",
    "\n",
    "staticPredictor.wordlist_dict = loadWordListDict('../srs/predictor_data/wordlist_dict_1.txt')"
   ]
  },
  {
   "cell_type": "code",
   "execution_count": 12,
   "metadata": {
    "collapsed": false
   },
   "outputs": [],
   "source": [
    "validation_set = sentences[:]\n",
    "correct = 0.0\n",
    "correct_dict = {}\n",
    "incorrect_dict = {}\n",
    "expect_dict = {}\n",
    "for sentence in validation_set:\n",
    "    predicted_aspect = staticPredictor.predict(sentence, cp_threshold=0)\n",
    "    if predicted_aspect == sentence.labeled_aspects:\n",
    "        correct += 1\n",
    "        if predicted_aspect not in correct_dict:\n",
    "            correct_dict[predicted_aspect] = [sentence]\n",
    "        else:\n",
    "            correct_dict[predicted_aspect].append(sentence)\n",
    "    else:\n",
    "        if predicted_aspect not in incorrect_dict:\n",
    "            incorrect_dict[predicted_aspect] = [sentence]\n",
    "        else:\n",
    "            incorrect_dict[predicted_aspect].append(sentence)\n",
    "        \n",
    "        if sentence.labeled_aspects not in expect_dict:\n",
    "            expect_dict[sentence.labeled_aspects] = [sentence]\n",
    "        else:\n",
    "            expect_dict[sentence.labeled_aspects].append(sentence)\n",
    "        "
   ]
  },
  {
   "cell_type": "code",
   "execution_count": 17,
   "metadata": {
    "collapsed": false
   },
   "outputs": [
    {
     "name": "stdout",
     "output_type": "stream",
     "text": [
      "0.619799139168\n"
     ]
    }
   ],
   "source": [
    "accuracy = correct/len(sentences)\n",
    "print accuracy"
   ]
  },
  {
   "cell_type": "code",
   "execution_count": 13,
   "metadata": {
    "collapsed": false
   },
   "outputs": [
    {
     "name": "stdout",
     "output_type": "stream",
     "text": [
      "Precision:\n",
      "-----------\n",
      "battery\n",
      "0.455172413793\n",
      "pictures\n",
      "0.577405857741\n",
      "screen\n",
      "0.704918032787\n",
      "zoom\n",
      "0.733333333333\n",
      "ease of use\n",
      "0.7\n",
      "detection\n",
      "0.625\n",
      "video\n",
      "0.777777777778\n",
      "design\n",
      "0.652173913043\n",
      "price\n",
      "0.789473684211\n",
      "size\n",
      "0.793103448276\n"
     ]
    }
   ],
   "source": [
    "print \"Precision:\"\n",
    "print '-----------'\n",
    "for aspect in correct_dict:\n",
    "    print aspect\n",
    "    if aspect in incorrect_dict:\n",
    "        print len(correct_dict[aspect])*1.0/(len(correct_dict[aspect]) + len(incorrect_dict[aspect]))\n",
    "    else:\n",
    "        print 1.0"
   ]
  },
  {
   "cell_type": "code",
   "execution_count": 14,
   "metadata": {
    "collapsed": false
   },
   "outputs": [
    {
     "name": "stdout",
     "output_type": "stream",
     "text": [
      "Recall:\n",
      "----------\n",
      "battery\n",
      "0.916666666667\n",
      "pictures\n",
      "0.775280898876\n",
      "screen\n",
      "0.741379310345\n",
      "zoom\n",
      "0.533980582524\n",
      "ease of use\n",
      "0.506024096386\n",
      "detection\n",
      "0.25\n",
      "video\n",
      "0.304347826087\n",
      "design\n",
      "0.441176470588\n",
      "price\n",
      "0.454545454545\n",
      "size\n",
      "0.575\n"
     ]
    }
   ],
   "source": [
    "print \"Recall:\"\n",
    "print \"----------\"\n",
    "for aspect in correct_dict:\n",
    "    print aspect\n",
    "    print len(correct_dict[aspect])*1.0/(len(correct_dict[aspect]) + len(expect_dict[aspect]))"
   ]
  },
  {
   "cell_type": "code",
   "execution_count": 1,
   "metadata": {
    "collapsed": false
   },
   "outputs": [
    {
     "name": "stdout",
     "output_type": "stream",
     "text": [
      "cheaper\n",
      "expens\n",
      "afford\n",
      "color\n",
      "pretti\n",
      "auto\n",
      "mode\n",
      "smart\n",
      "focus\n",
      "carri\n",
      "smaller\n",
      "pocket\n",
      "bulki\n",
      "photo\n",
      "photo\n"
     ]
    }
   ],
   "source": [
    "from nltk.stem import SnowballStemmer\n",
    "stemmer = SnowballStemmer('english')\n",
    "word_list = ['cheaper', 'expensive', 'affordable', 'color', \n",
    "             'pretty', 'auto', 'modes', 'smart', 'focus','carry',\n",
    "            'smaller', 'pocketable', 'bulky', 'photo', 'photos']\n",
    "for i in range(len(word_list)):\n",
    "    word = word_list[i]\n",
    "    stemmedWord = stemmer.stem(word)\n",
    "    print stemmedWord"
   ]
  },
  {
   "cell_type": "code",
   "execution_count": 19,
   "metadata": {
    "collapsed": false,
    "scrolled": false
   },
   "outputs": [
    {
     "name": "stdout",
     "output_type": "stream",
     "text": [
      "145\n",
      "For the digital novice, this versatility is perhaps an initial disadvantage since it'll take effort and time to become knowledgeable and well-practiced in all of them.\n",
      "\n",
      "Indeed, the 181-page user guide is a prodigious read.\n",
      "\n",
      "If you research this camera you will find no strong argument that any camera in its class exceeds the S-45 in quality/features.\n",
      "\n",
      "On the plus side, the S45 has:1) 9 point AutoFocus\n",
      "\n",
      "6) close to centered tripod attachment for easier stitch photo taking\n",
      "\n",
      "On the minus side:1) Decent to weak flash that is better than the S400 but still weak for low light and night photos at greater than 10 feet away.\n",
      "\n",
      "The control is ok but not as good as traditional SLR cameras or S400.2.\n",
      "\n",
      "There is some noise at low light levels, but this is true of all CCD cameras, and the S45 is about average in this respect.\n",
      "\n",
      "It's user interface is an atrocity, buttons have icons rather than labels, there is no menu tab, etc.\n",
      "\n",
      "It's smaller than most cameras with the same amount of megapixels, but it's still not as lightweight as some of the Casio models or Canon's digital Elph.\n",
      "\n",
      "Cons:- ISO 200+ has significant noise.\n",
      "\n",
      "The CCD is the same, and I needed the point-and-shoot feaures also so the S40 was the winner.\n",
      "\n",
      "The 4.1 megapixels are more than sufficient, in fact, I often dial down the resolution to save file space.\n",
      "\n",
      "The movie clips with sound are much better than I expected.\n",
      "\n",
      "The sturdy silver case with the clamshell cover is my favorite feature.\n",
      "\n",
      "Red eye can be a problem, although coaching the photographed people to look at the pre-flash srobe, as the directions explained, does work well.\n",
      "\n",
      "And some photos containing horizontal lines can have a jagged appearance at some resolutions, but it is usually minimal.\n",
      "\n",
      "One slight click can quickly corrupt your memory card and be the difference of you being happy or crying over the 450 photos of your Italy trip lost.\n",
      "\n",
      "They turned out VERY grainy, with a lot of noise.\n",
      "\n",
      "main complaint is that this newer model has buttons that aren't as user friendly.\n",
      "\n",
      "It's a good point & shoot camera, but it does take some practice to get the hang of.\n",
      "\n",
      "After receiving the refurbished camera, I still have some problems with it randomly turning itself off.\n",
      "\n",
      "AND WORTH EVERY PENNY.\n",
      "\n",
      "Touch control may not be as accurate and reliable as physical button.\n",
      "\n",
      "This is a great compact camera.\n",
      "\n",
      "smaller than a pack of cigarettes.\n",
      "\n",
      "This is a great compact camera.\n",
      "\n",
      "smaller than a pack of cigarettes.\n",
      "\n",
      "This is a great compact camera.\n",
      "\n",
      "smaller than a pack of cigarettes.\n",
      "\n",
      "This is a great compact camera.\n",
      "\n",
      "smaller than a pack of cigarettes.\n",
      "\n",
      "This is a great compact camera.\n",
      "\n",
      "smaller than a pack of cigarettes.\n",
      "\n",
      "This is a great compact camera.\n",
      "\n",
      "smaller than a pack of cigarettes.\n",
      "\n",
      "It takes sharp pix both close and far away.\n",
      "\n",
      "It takes sharp pix both close and far away.\n",
      "\n",
      "It takes sharp pix both close and far away.\n",
      "\n",
      "It takes sharp pix both close and far away.\n",
      "\n",
      "I bought the attractive light purple model of this phone for my wife for Xmas 2013, and was she ever surprised and delighted!\n",
      "\n",
      "Nikon has always been known for outstanding optics, and they don't appear to have skimped on this modest-priced unit.\n",
      "\n",
      "It takes sharp pix both close and far away.\n",
      "\n",
      "I bought the attractive light purple model of this phone for my wife for Xmas 2013, and was she ever surprised and delighted!\n",
      "\n",
      "Nikon has always been known for outstanding optics, and they don't appear to have skimped on this modest-priced unit.\n",
      "\n",
      "It takes sharp pix both close and far away.\n",
      "\n",
      "I bought the attractive light purple model of this phone for my wife for Xmas 2013, and was she ever surprised and delighted!\n",
      "\n",
      "Nikon has always been known for outstanding optics, and they don't appear to have skimped on this modest-priced unit.\n",
      "\n",
      "It takes sharp pix both close and far away.\n",
      "\n",
      "I bought the attractive light purple model of this phone for my wife for Xmas 2013, and was she ever surprised and delighted!\n",
      "\n",
      "Nikon has always been known for outstanding optics, and they don't appear to have skimped on this modest-priced unit.\n",
      "\n",
      "It takes sharp pix both close and far away.\n",
      "\n",
      "I bought the attractive light purple model of this phone for my wife for Xmas 2013, and was she ever surprised and delighted!\n",
      "\n",
      "Nikon has always been known for outstanding optics, and they don't appear to have skimped on this modest-priced unit.\n",
      "\n",
      "nikon colpix s6400 very goodaf and vr work very goot at 12x zoomi like 3 inch screengood control\n",
      "\n",
      "nikon colpix s6400 very goodaf and vr work very goot at 12x zoomi like 3 inch screengood control\n",
      "\n",
      "nikon colpix s6400 very goodaf and vr work very goot at 12x zoomi like 3 inch screengood control\n",
      "\n",
      "nikon colpix s6400 very goodaf and vr work very goot at 12x zoomi like 3 inch screengood control\n",
      "\n",
      "nikon colpix s6400 very goodaf and vr work very goot at 12x zoomi like 3 inch screengood control\n",
      "\n",
      "nikon colpix s6400 very goodaf and vr work very goot at 12x zoomi like 3 inch screengood control\n",
      "\n",
      "nikon colpix s6400 very goodaf and vr work very goot at 12x zoomi like 3 inch screengood control\n",
      "\n",
      "nikon colpix s6400 very goodaf and vr work very goot at 12x zoomi like 3 inch screengood control\n",
      "\n",
      "nikon colpix s6400 very goodaf and vr work very goot at 12x zoomi like 3 inch screengood control\n",
      "\n",
      "this is a good product.lens make slight noise while moving.light compact cameracamera is working perfectlynice product\n",
      "\n",
      "The Canon feels solid as a rock.\n",
      "\n",
      "The 520 is just perfect; that solid DSLR feel but with a modest weight (20 ounces).\n",
      "\n",
      "Yes, I wish the P520 had a few more pro-like features and wasn't so extreme in its focal length, but this is a very good camera overall.\n",
      "\n",
      "Most of all I really like the looks of this camera, it feels great in my hands, very comfortable and not too heavy.\n",
      "\n",
      "We havent had one issue with it at all and it really seems like we made a good choice.\n",
      "\n",
      "What Nikon did well on the P520:Low-light performance.\n",
      "\n",
      "What Nikon needs to work on IMMEDIATELY:Autofocus: Often fuzzy, almost always slow, somewhat unpredictable, sometimes balky.\n",
      "\n",
      "The menus are also seriously in need of work!Outdoor overexposure: The P520 does not handle daylight well, and even with flash does not handle backlit scenes as well as my other Nikons, or Kodaks.\n",
      "\n",
      "The camera is lightweight.\n",
      "\n",
      "This also means there's less chance of dirt or moisture getting in there.\n",
      "\n",
      "I like that you can fully close the LCD facing the camera to protect it, or close and keep the LCD facing outwards - whatever your preference.\n",
      "\n",
      "It's beautiful.\n",
      "\n",
      "Here is my take after having it for a couple of days:Pros:- Great pics- Has wi-fi enabled feature (that's next for me to try out once I get the adapter) It only works on Apple and Android phones I have read.- Has GPS (although I opted not to turn that on to save battery life, but I guess I should test it)- Great feel with the rubber handle grip.\n",
      "\n",
      "I found it very sturdy.- I love the LCD flip out monitor.\n",
      "\n",
      "I found it very sturdy.- I love the LCD flip out monitor.\n",
      "\n"
     ]
    }
   ],
   "source": [
    "aspect = \"battery\"\n",
    "print len(correct_dict[aspect]) + len(incorrect_dict[aspect])\n",
    "for sent in incorrect_dict[aspect]:\n",
    "    print sent.content"
   ]
  },
  {
   "cell_type": "markdown",
   "metadata": {},
   "source": [
    "## Practical scheme summary\n",
    "\n",
    "In prediction phase, if `max(cp)` is higher than 50%, we choose the static aspect corresponding to `max(cp)`, OTHERWISE, we choose `no feature`, which means we will discard this sentence when doing sentiment analysis."
   ]
  },
  {
   "cell_type": "code",
   "execution_count": null,
   "metadata": {
    "collapsed": true
   },
   "outputs": [],
   "source": []
  }
 ],
 "metadata": {
  "kernelspec": {
   "display_name": "Python 2",
   "language": "python",
   "name": "python2"
  },
  "language_info": {
   "codemirror_mode": {
    "name": "ipython",
    "version": 2
   },
   "file_extension": ".py",
   "mimetype": "text/x-python",
   "name": "python",
   "nbconvert_exporter": "python",
   "pygments_lexer": "ipython2",
   "version": "2.7.11"
  }
 },
 "nbformat": 4,
 "nbformat_minor": 0
}
