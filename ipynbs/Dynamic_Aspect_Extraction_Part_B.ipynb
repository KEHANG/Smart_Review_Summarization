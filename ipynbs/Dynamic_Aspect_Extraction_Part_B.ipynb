{
 "cells": [
  {
   "cell_type": "markdown",
   "metadata": {},
   "source": [
    "# Dynamic Aspect Extraction for `camera` Reviews Part B\n",
    "\n",
    "Han, Kehang (hkh12@mit.edu)\n",
    "\n",
    "As a follow-up demonstration, this ipynb is focused on extracting aspects from datasets called `AmazonReviews`, which has much more reviews on cameras. "
   ]
  },
  {
   "cell_type": "markdown",
   "metadata": {},
   "source": [
    "## Set up"
   ]
  },
  {
   "cell_type": "code",
   "execution_count": 1,
   "metadata": {
    "collapsed": false
   },
   "outputs": [],
   "source": [
    "import json\n",
    "import nltk\n",
    "import string\n",
    "import sys\n",
    "sys.path.insert(0,'../')\n",
    "\n",
    "from utilities import Product, AspectPattern"
   ]
  },
  {
   "cell_type": "markdown",
   "metadata": {},
   "source": [
    "## s1: load raw data from `AmazonReviews` datasets"
   ]
  },
  {
   "cell_type": "code",
   "execution_count": 2,
   "metadata": {
    "collapsed": false
   },
   "outputs": [],
   "source": [
    "product_name = 'B00AW2P98E'\n",
    "reviewJsonFile = product_name + '.json'\n",
    "product = Product(name=product_name)\n",
    "product.loadReviewsFromJsonFile('../data/trainingFiles/AmazonReviews/cameras/' + reviewJsonFile)"
   ]
  },
  {
   "cell_type": "markdown",
   "metadata": {},
   "source": [
    "## s2: define aspect patterns"
   ]
  },
  {
   "cell_type": "code",
   "execution_count": 3,
   "metadata": {
    "collapsed": true
   },
   "outputs": [],
   "source": [
    "aspectPatterns = []\n",
    "# define an aspect pattern1\n",
    "pattern_name = 'adj_nn'\n",
    "pattern_structure =\"\"\"\n",
    "adj_nn:{<JJ><NN.?>}\n",
    "\"\"\"\n",
    "aspectTagIndices = [1]\n",
    "aspectPattern = AspectPattern(name='adj_nn', structure=pattern_structure, aspectTagIndices=aspectTagIndices)\n",
    "aspectPatterns.append(aspectPattern)\n",
    "# define an aspect pattern2\n",
    "pattern_name = 'nn_nn'\n",
    "pattern_structure =\"\"\"\n",
    "nn_nn:{<NN.?><NN.?>}\n",
    "\"\"\"\n",
    "aspectTagIndices = [0,1]\n",
    "aspectPattern = AspectPattern(name='nn_nn', structure=pattern_structure, aspectTagIndices=aspectTagIndices)\n",
    "aspectPatterns.append(aspectPattern)"
   ]
  },
  {
   "cell_type": "markdown",
   "metadata": {},
   "source": [
    "## s3: match sentence to pattern to extract aspects"
   ]
  },
  {
   "cell_type": "code",
   "execution_count": 4,
   "metadata": {
    "collapsed": false
   },
   "outputs": [],
   "source": [
    "# pos tagging\n",
    "for review in product.reviews:\n",
    "    for sentence in review.sentences:\n",
    "        sentence.pos_tag()\n",
    "        sentence.matchDaynamicAspectPatterns(aspectPatterns)"
   ]
  },
  {
   "cell_type": "markdown",
   "metadata": {},
   "source": [
    "## s4: statistic analysis on aspects extracted across all reviews"
   ]
  },
  {
   "cell_type": "code",
   "execution_count": 5,
   "metadata": {
    "collapsed": true
   },
   "outputs": [],
   "source": [
    "word_dict = {}\n",
    "for review in product.reviews:\n",
    "    for sentence in review.sentences:\n",
    "        for aspect in sentence.dynamic_aspects:\n",
    "            if aspect in word_dict:\n",
    "                word_dict[aspect] += 1\n",
    "            else:\n",
    "                word_dict[aspect] = 1"
   ]
  },
  {
   "cell_type": "code",
   "execution_count": 6,
   "metadata": {
    "collapsed": false
   },
   "outputs": [
    {
     "data": {
      "text/plain": [
       "[(u'camera', 15),\n",
       " (u'pictures', 12),\n",
       " (u'cameras', 7),\n",
       " (u'screen', 7),\n",
       " (u'size', 5),\n",
       " (u'zoom', 4),\n",
       " (u'feature', 3),\n",
       " (u'color', 3),\n",
       " (u'party', 3),\n",
       " (u'shots', 3),\n",
       " (u'price', 3),\n",
       " (u'friday', 3),\n",
       " (u'features', 3),\n",
       " (u'point', 3),\n",
       " (u'charger', 3)]"
      ]
     },
     "execution_count": 6,
     "metadata": {},
     "output_type": "execute_result"
    }
   ],
   "source": [
    "word_sorted = sorted(word_dict.items(), key=lambda tup:-tup[1])\n",
    "word_sorted[:15]"
   ]
  },
  {
   "cell_type": "markdown",
   "metadata": {},
   "source": [
    "## s5: save most frequent dynamic aspects"
   ]
  },
  {
   "cell_type": "code",
   "execution_count": 7,
   "metadata": {
    "collapsed": true
   },
   "outputs": [],
   "source": [
    "import json\n",
    "word_output = open('../data/word_list/{0}_wordlist.txt'.format(product_name), 'w')\n",
    "json.dump(word_sorted[:15], word_output)\n",
    "word_output.close()"
   ]
  },
  {
   "cell_type": "markdown",
   "metadata": {},
   "source": [
    "## s6: stemming analysis"
   ]
  },
  {
   "cell_type": "code",
   "execution_count": 8,
   "metadata": {
    "collapsed": true
   },
   "outputs": [],
   "source": [
    "from nltk.stem import SnowballStemmer\n",
    "stemmer = SnowballStemmer('english')"
   ]
  },
  {
   "cell_type": "code",
   "execution_count": 9,
   "metadata": {
    "collapsed": true
   },
   "outputs": [],
   "source": [
    "# collect word with same stem\n",
    "stemmedWord_dict = {}\n",
    "for word in word_dict:\n",
    "    stemmedWord = stemmer.stem(word)\n",
    "    if stemmedWord in stemmedWord_dict:\n",
    "        stemmedWord_dict[stemmedWord] += word_dict[word]\n",
    "    else:\n",
    "        stemmedWord_dict[stemmedWord] = word_dict[word]"
   ]
  },
  {
   "cell_type": "code",
   "execution_count": 10,
   "metadata": {
    "collapsed": false
   },
   "outputs": [
    {
     "data": {
      "text/plain": [
       "[(u'camera', 22),\n",
       " (u'pictur', 13),\n",
       " (u'screen', 7),\n",
       " (u'featur', 6),\n",
       " (u'size', 5),\n",
       " (u'shot', 4),\n",
       " (u'zoom', 4),\n",
       " (u'photo', 3),\n",
       " (u'button', 3),\n",
       " (u'coolpix s6400', 3),\n",
       " (u'friday', 3),\n",
       " (u'angl', 3),\n",
       " (u'point', 3),\n",
       " (u'color', 3),\n",
       " (u'batteri', 3)]"
      ]
     },
     "execution_count": 10,
     "metadata": {},
     "output_type": "execute_result"
    }
   ],
   "source": [
    "# frequency ranking\n",
    "stemmedWord_sorted = sorted(stemmedWord_dict.items(), key=lambda tup:-tup[1])\n",
    "stemmedWord_sorted[:15]"
   ]
  },
  {
   "cell_type": "code",
   "execution_count": 11,
   "metadata": {
    "collapsed": true
   },
   "outputs": [],
   "source": [
    "# save most frequent stemmed words\n",
    "stemmedWord_output = open('../data/word_list/{0}_stemmedwordlist.txt'.format(product_name), 'w')\n",
    "json.dump(stemmedWord_sorted[:15], stemmedWord_output)\n",
    "stemmedWord_output.close()"
   ]
  },
  {
   "cell_type": "code",
   "execution_count": null,
   "metadata": {
    "collapsed": true
   },
   "outputs": [],
   "source": []
  }
 ],
 "metadata": {
  "kernelspec": {
   "display_name": "Python 2",
   "language": "python",
   "name": "python2"
  },
  "language_info": {
   "codemirror_mode": {
    "name": "ipython",
    "version": 2
   },
   "file_extension": ".py",
   "mimetype": "text/x-python",
   "name": "python",
   "nbconvert_exporter": "python",
   "pygments_lexer": "ipython2",
   "version": "2.7.11"
  }
 },
 "nbformat": 4,
 "nbformat_minor": 0
}
