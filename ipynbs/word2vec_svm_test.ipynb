{
 "cells": [
  {
   "cell_type": "code",
   "execution_count": 65,
   "metadata": {
    "collapsed": false
   },
   "outputs": [],
   "source": [
    "from srs.predictor import loadTrainedPredictor\n",
    "from srs.utilities import loadUsefulTrainingData\n",
    "from srs import settings\n",
    "from srs.Model_Word2Vec import AspectPatterns, distill_dynamic, static_aspect_to_vec\n",
    "import numpy as np\n",
    "import pandas as pd\n",
    "from sklearn.cross_validation import train_test_split\n",
    "from sklearn import svm\n",
    "from sklearn.metrics import accuracy_score,classification_report\n",
    "from sklearn.utils import column_or_1d"
   ]
  },
  {
   "cell_type": "markdown",
   "metadata": {},
   "source": [
    "## set up word2vec predictor"
   ]
  },
  {
   "cell_type": "code",
   "execution_count": 2,
   "metadata": {
    "collapsed": true
   },
   "outputs": [],
   "source": [
    "w2v_predictor = loadTrainedPredictor('Word2Vec')"
   ]
  },
  {
   "cell_type": "markdown",
   "metadata": {},
   "source": [
    "## load training sentences"
   ]
  },
  {
   "cell_type": "code",
   "execution_count": 3,
   "metadata": {
    "collapsed": true
   },
   "outputs": [],
   "source": [
    "static_traning_data_dir = settings[\"static_training_data\"]\n",
    "sentences = loadUsefulTrainingData(static_traning_data_dir)"
   ]
  },
  {
   "cell_type": "markdown",
   "metadata": {},
   "source": [
    "## create feature vec for each sentence"
   ]
  },
  {
   "cell_type": "code",
   "execution_count": 50,
   "metadata": {
    "collapsed": true
   },
   "outputs": [],
   "source": [
    "aspectPattern_names = ['adj_nn','nn']\n",
    "aspectPatterns = AspectPatterns(aspectPattern_names)"
   ]
  },
  {
   "cell_type": "code",
   "execution_count": 51,
   "metadata": {
    "collapsed": true
   },
   "outputs": [],
   "source": [
    "df = pd.DataFrame(columns=w2v_predictor.static_aspects_all['static_aspect_list_fortraining'])\n",
    "target = pd.DataFrame(columns=['Prod_Feat'])"
   ]
  },
  {
   "cell_type": "code",
   "execution_count": 52,
   "metadata": {
    "collapsed": false
   },
   "outputs": [],
   "source": [
    "for sen0 in sentences:\n",
    "\n",
    "    distill_dynamic(sen0, aspectPatterns)\n",
    "\n",
    "    #transform the sentence's word2vec_features to vectors\n",
    "    word2vec_features = []\n",
    "    for item in sen0.word2vec_features_list:\n",
    "        word2vec_features=word2vec_features + item\n",
    "    vec_list=[]\n",
    "    for dynamic_aspect in word2vec_features:\n",
    "        dynamic_aspect_splitted=dynamic_aspect.split(' ')\n",
    "        aspect_phrase_vec=[]\n",
    "        for word in dynamic_aspect_splitted:\n",
    "            if word in w2v_predictor.model:\n",
    "                aspect_word_vec=w2v_predictor.model[word]\n",
    "                aspect_phrase_vec.append(aspect_word_vec)\n",
    "        if aspect_phrase_vec:\n",
    "            vec_list.append(aspect_phrase_vec)\n",
    "\n",
    "    num_static_aspect = len(w2v_predictor.static_aspects_all['static_aspect_list_fortraining'])\n",
    "    static_wordlist_vec = static_aspect_to_vec(w2v_predictor.static_aspects_all, w2v_predictor.model)\n",
    "    if vec_list:\n",
    "        similarity_matrix=np.zeros([len(vec_list),num_static_aspect])\n",
    "        for i in range(len(vec_list)):\n",
    "            for j in range(num_static_aspect):   \n",
    "                similarity_item_matrix=np.zeros([len(vec_list[i]),len(static_wordlist_vec[j])])\n",
    "                for kk in range(len(vec_list[i])):\n",
    "                    for ll in range(len(static_wordlist_vec[j])):\n",
    "                        similarity_item_matrix[kk][ll]=np.dot(vec_list[i][kk],static_wordlist_vec[j][ll])\n",
    "\n",
    "                similarity_item_row=np.max(similarity_item_matrix,axis=1)\n",
    "                similarity_item=np.sum(similarity_item_row)\n",
    "                similarity_matrix[i][j]=similarity_item\n",
    "\n",
    "    useful_features_vec = np.max(similarity_matrix, axis=0)\n",
    "    \n",
    "    row = pd.DataFrame([useful_features_vec],\n",
    "                       columns = w2v_predictor.static_aspects_all['static_aspect_list_fortraining'])\n",
    "    df = df.append(row,ignore_index=True)\n",
    "    \n",
    "    row_target = pd.DataFrame([sen0.labeled_aspects],columns=['Prod_Feat'])\n",
    "    target = target.append(row_target,ignore_index=True)"
   ]
  },
  {
   "cell_type": "code",
   "execution_count": 53,
   "metadata": {
    "collapsed": false
   },
   "outputs": [
    {
     "data": {
      "text/html": [
       "<div>\n",
       "<table border=\"1\" class=\"dataframe\">\n",
       "  <thead>\n",
       "    <tr style=\"text-align: right;\">\n",
       "      <th></th>\n",
       "      <th>price</th>\n",
       "      <th>pictures</th>\n",
       "      <th>video</th>\n",
       "      <th>zoom</th>\n",
       "      <th>size</th>\n",
       "      <th>design</th>\n",
       "      <th>battery</th>\n",
       "      <th>screen</th>\n",
       "      <th>detection</th>\n",
       "      <th>ease use</th>\n",
       "      <th>quality</th>\n",
       "    </tr>\n",
       "  </thead>\n",
       "  <tbody>\n",
       "    <tr>\n",
       "      <th>0</th>\n",
       "      <td>0.931658</td>\n",
       "      <td>1.534901</td>\n",
       "      <td>0.995598</td>\n",
       "      <td>1.062620</td>\n",
       "      <td>0.985629</td>\n",
       "      <td>0.835051</td>\n",
       "      <td>0.906312</td>\n",
       "      <td>0.993779</td>\n",
       "      <td>1.261998</td>\n",
       "      <td>1.457244</td>\n",
       "      <td>0.941206</td>\n",
       "    </tr>\n",
       "    <tr>\n",
       "      <th>1</th>\n",
       "      <td>0.557250</td>\n",
       "      <td>0.851869</td>\n",
       "      <td>0.598412</td>\n",
       "      <td>1.055173</td>\n",
       "      <td>0.882652</td>\n",
       "      <td>0.864155</td>\n",
       "      <td>1.053778</td>\n",
       "      <td>1.025575</td>\n",
       "      <td>1.176673</td>\n",
       "      <td>0.838404</td>\n",
       "      <td>0.549492</td>\n",
       "    </tr>\n",
       "    <tr>\n",
       "      <th>2</th>\n",
       "      <td>1.025858</td>\n",
       "      <td>0.477486</td>\n",
       "      <td>0.512620</td>\n",
       "      <td>1.360526</td>\n",
       "      <td>1.238442</td>\n",
       "      <td>0.918769</td>\n",
       "      <td>1.620101</td>\n",
       "      <td>0.652305</td>\n",
       "      <td>0.967244</td>\n",
       "      <td>1.238442</td>\n",
       "      <td>0.737678</td>\n",
       "    </tr>\n",
       "    <tr>\n",
       "      <th>3</th>\n",
       "      <td>0.785820</td>\n",
       "      <td>0.508109</td>\n",
       "      <td>0.550379</td>\n",
       "      <td>1.374234</td>\n",
       "      <td>1.168706</td>\n",
       "      <td>0.787749</td>\n",
       "      <td>1.658028</td>\n",
       "      <td>0.781928</td>\n",
       "      <td>1.009568</td>\n",
       "      <td>1.168706</td>\n",
       "      <td>0.461103</td>\n",
       "    </tr>\n",
       "    <tr>\n",
       "      <th>4</th>\n",
       "      <td>0.601522</td>\n",
       "      <td>0.367451</td>\n",
       "      <td>0.363241</td>\n",
       "      <td>0.551944</td>\n",
       "      <td>0.594046</td>\n",
       "      <td>0.432167</td>\n",
       "      <td>0.999162</td>\n",
       "      <td>0.519363</td>\n",
       "      <td>0.609825</td>\n",
       "      <td>0.579602</td>\n",
       "      <td>0.460836</td>\n",
       "    </tr>\n",
       "  </tbody>\n",
       "</table>\n",
       "</div>"
      ],
      "text/plain": [
       "      price  pictures     video      zoom      size    design   battery  \\\n",
       "0  0.931658  1.534901  0.995598  1.062620  0.985629  0.835051  0.906312   \n",
       "1  0.557250  0.851869  0.598412  1.055173  0.882652  0.864155  1.053778   \n",
       "2  1.025858  0.477486  0.512620  1.360526  1.238442  0.918769  1.620101   \n",
       "3  0.785820  0.508109  0.550379  1.374234  1.168706  0.787749  1.658028   \n",
       "4  0.601522  0.367451  0.363241  0.551944  0.594046  0.432167  0.999162   \n",
       "\n",
       "     screen  detection  ease use   quality  \n",
       "0  0.993779   1.261998  1.457244  0.941206  \n",
       "1  1.025575   1.176673  0.838404  0.549492  \n",
       "2  0.652305   0.967244  1.238442  0.737678  \n",
       "3  0.781928   1.009568  1.168706  0.461103  \n",
       "4  0.519363   0.609825  0.579602  0.460836  "
      ]
     },
     "execution_count": 53,
     "metadata": {},
     "output_type": "execute_result"
    }
   ],
   "source": [
    "df.head(5)"
   ]
  },
  {
   "cell_type": "code",
   "execution_count": 54,
   "metadata": {
    "collapsed": false
   },
   "outputs": [
    {
     "data": {
      "text/html": [
       "<div>\n",
       "<table border=\"1\" class=\"dataframe\">\n",
       "  <thead>\n",
       "    <tr style=\"text-align: right;\">\n",
       "      <th></th>\n",
       "      <th>Prod_Feat</th>\n",
       "    </tr>\n",
       "  </thead>\n",
       "  <tbody>\n",
       "    <tr>\n",
       "      <th>0</th>\n",
       "      <td>pictures</td>\n",
       "    </tr>\n",
       "    <tr>\n",
       "      <th>1</th>\n",
       "      <td>size</td>\n",
       "    </tr>\n",
       "    <tr>\n",
       "      <th>2</th>\n",
       "      <td>battery</td>\n",
       "    </tr>\n",
       "    <tr>\n",
       "      <th>3</th>\n",
       "      <td>battery</td>\n",
       "    </tr>\n",
       "    <tr>\n",
       "      <th>4</th>\n",
       "      <td>battery</td>\n",
       "    </tr>\n",
       "  </tbody>\n",
       "</table>\n",
       "</div>"
      ],
      "text/plain": [
       "  Prod_Feat\n",
       "0  pictures\n",
       "1      size\n",
       "2   battery\n",
       "3   battery\n",
       "4   battery"
      ]
     },
     "execution_count": 54,
     "metadata": {},
     "output_type": "execute_result"
    }
   ],
   "source": [
    "target.head(5)"
   ]
  },
  {
   "cell_type": "markdown",
   "metadata": {},
   "source": [
    "## set up training ans testing sets"
   ]
  },
  {
   "cell_type": "code",
   "execution_count": 71,
   "metadata": {
    "collapsed": false
   },
   "outputs": [],
   "source": [
    "train_idx, test_idx = train_test_split(df.index, test_size=0.25, random_state=42)\n",
    "X_train  = df.iloc[train_idx]\n",
    "X_test = df.iloc[test_idx]\n",
    "y_train = target.iloc[train_idx].values.ravel()\n",
    "y_test = target.iloc[test_idx].values.ravel()"
   ]
  },
  {
   "cell_type": "code",
   "execution_count": 83,
   "metadata": {
    "collapsed": false
   },
   "outputs": [
    {
     "name": "stdout",
     "output_type": "stream",
     "text": [
      "================kernel: linear=========================\n",
      "             precision    recall  f1-score   support\n",
      "\n",
      "   pictures       0.57      0.80      0.67        10\n",
      "       size       0.56      0.62      0.59         8\n",
      "    battery       0.00      0.00      0.00         6\n",
      "     screen       0.48      0.74      0.58        19\n",
      "       zoom       0.58      0.62      0.60        48\n",
      "ease of use       0.62      0.80      0.70        10\n",
      "  detection       0.00      0.00      0.00         3\n",
      "    quality       0.60      0.35      0.44        17\n",
      "      price       0.60      0.57      0.59        21\n",
      "     design       1.00      0.33      0.50         6\n",
      "      video       0.50      0.48      0.49        27\n",
      "\n",
      "avg / total       0.55      0.56      0.54       175\n",
      "\n",
      "================kernel: rbf=========================\n",
      "             precision    recall  f1-score   support\n",
      "\n",
      "   pictures       0.53      0.90      0.67        10\n",
      "       size       0.67      0.75      0.71         8\n",
      "    battery       0.50      0.17      0.25         6\n",
      "     screen       0.44      0.58      0.50        19\n",
      "       zoom       0.54      0.77      0.64        48\n",
      "ease of use       0.67      0.20      0.31        10\n",
      "  detection       0.00      0.00      0.00         3\n",
      "    quality       0.59      0.59      0.59        17\n",
      "      price       0.61      0.52      0.56        21\n",
      "     design       1.00      0.33      0.50         6\n",
      "      video       0.86      0.44      0.59        27\n",
      "\n",
      "avg / total       0.61      0.58      0.56       175\n",
      "\n",
      "================kernel: poly=========================\n",
      "             precision    recall  f1-score   support\n",
      "\n",
      "   pictures       0.47      0.90      0.62        10\n",
      "       size       0.67      0.75      0.71         8\n",
      "    battery       0.25      0.33      0.29         6\n",
      "     screen       0.45      0.74      0.56        19\n",
      "       zoom       0.59      0.48      0.53        48\n",
      "ease of use       0.50      0.30      0.37        10\n",
      "  detection       0.33      0.33      0.33         3\n",
      "    quality       0.50      0.59      0.54        17\n",
      "      price       0.60      0.57      0.59        21\n",
      "     design       0.67      0.33      0.44         6\n",
      "      video       0.76      0.48      0.59        27\n",
      "\n",
      "avg / total       0.57      0.54      0.54       175\n",
      "\n"
     ]
    }
   ],
   "source": [
    "for kernel in ('linear', 'rbf', 'poly'):\n",
    "    print \"================kernel: {0}=========================\".format(kernel)\n",
    "    w2v_svm = svm.SVC(kernel=kernel, gamma=6)\n",
    "    w2v_svm.fit(X_train, y_train)\n",
    "    y_predicted = w2v_svm.predict(X_test)\n",
    "    target_names = target.Prod_Feat.unique()\n",
    "    print(classification_report(y_test, y_predicted, target_names=target_names))"
   ]
  },
  {
   "cell_type": "code",
   "execution_count": null,
   "metadata": {
    "collapsed": true
   },
   "outputs": [],
   "source": []
  }
 ],
 "metadata": {
  "kernelspec": {
   "display_name": "Python 2",
   "language": "python",
   "name": "python2"
  },
  "language_info": {
   "codemirror_mode": {
    "name": "ipython",
    "version": 2
   },
   "file_extension": ".py",
   "mimetype": "text/x-python",
   "name": "python",
   "nbconvert_exporter": "python",
   "pygments_lexer": "ipython2",
   "version": "2.7.11"
  }
 },
 "nbformat": 4,
 "nbformat_minor": 0
}
