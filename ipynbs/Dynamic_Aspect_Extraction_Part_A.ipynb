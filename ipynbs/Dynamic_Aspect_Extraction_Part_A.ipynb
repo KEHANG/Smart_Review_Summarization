{
 "cells": [
  {
   "cell_type": "markdown",
   "metadata": {},
   "source": [
    "# Dynamic Aspect Extraction for `camera` Reviews Part A\n",
    "\n",
    "Han, Kehang (hkh12@mit.edu)\n",
    "\n",
    "This ipynb demonstrates how we process the raw review data and get aspect dynamically for each sentence. The dynamic aspects collected would be detailed features customers care about, such as battery life, product looking, etc. As the very first step of our aspect-based sentiment analysis, dynamic aspect extraction is foundation of following static aspect classfication, aspect aggregation."
   ]
  },
  {
   "cell_type": "markdown",
   "metadata": {},
   "source": [
    "## s1: load raw data from Liu's datasets"
   ]
  },
  {
   "cell_type": "code",
   "execution_count": 1,
   "metadata": {
    "collapsed": false
   },
   "outputs": [],
   "source": [
    "from srs.utilities import Product, AspectPattern\n",
    "\n",
    "# load training data\n",
    "product_name = 'Canon'\n",
    "reviewTrainingFile = product_name + '.txt'\n",
    "product = Product(name=product_name)\n",
    "product.loadReviewsFromTrainingFile('../data/trainingFiles/Liu/' + reviewTrainingFile)"
   ]
  },
  {
   "cell_type": "markdown",
   "metadata": {},
   "source": [
    "## s2: define aspect patterns"
   ]
  },
  {
   "cell_type": "code",
   "execution_count": 2,
   "metadata": {
    "collapsed": true
   },
   "outputs": [],
   "source": [
    "aspectPatterns = []\n",
    "# define an aspect pattern1\n",
    "pattern_name = 'adj_nn'\n",
    "pattern_structure =\"\"\"\n",
    "adj_nn:{<JJ><NN.?>}\n",
    "\"\"\"\n",
    "aspectTagIndices = [1]\n",
    "aspectPattern = AspectPattern(name='adj_nn', structure=pattern_structure, aspectTagIndices=aspectTagIndices)\n",
    "aspectPatterns.append(aspectPattern)\n",
    "# define an aspect pattern2\n",
    "pattern_name = 'nn_nn'\n",
    "pattern_structure =\"\"\"\n",
    "nn_nn:{<NN.?><NN.?>}\n",
    "\"\"\"\n",
    "aspectTagIndices = [0,1]\n",
    "aspectPattern = AspectPattern(name='nn_nn', structure=pattern_structure, aspectTagIndices=aspectTagIndices)\n",
    "aspectPatterns.append(aspectPattern)"
   ]
  },
  {
   "cell_type": "markdown",
   "metadata": {},
   "source": [
    "## s3: match sentence to pattern to extract aspects"
   ]
  },
  {
   "cell_type": "code",
   "execution_count": null,
   "metadata": {
    "collapsed": false
   },
   "outputs": [],
   "source": [
    "# pos tagging\n",
    "for review in product.reviews:\n",
    "    for sentence in review.sentences:\n",
    "        sentence.pos_tag()\n",
    "        sentence.matchDaynamicAspectPatterns(aspectPatterns)"
   ]
  },
  {
   "cell_type": "markdown",
   "metadata": {},
   "source": [
    "## s4: statistic analysis on aspects extracted across all reviews"
   ]
  },
  {
   "cell_type": "code",
   "execution_count": 47,
   "metadata": {
    "collapsed": true
   },
   "outputs": [],
   "source": [
    "word_dict = {}\n",
    "for review in product.reviews:\n",
    "    for sentence in review.sentences:\n",
    "        for aspect in sentence.dynamic_aspects:\n",
    "            if aspect in word_dict:\n",
    "                word_dict[aspect] += 1\n",
    "            else:\n",
    "                word_dict[aspect] = 1"
   ]
  },
  {
   "cell_type": "code",
   "execution_count": 48,
   "metadata": {
    "collapsed": false
   },
   "outputs": [
    {
     "data": {
      "text/plain": [
       "[(u'camera', 43),\n",
       " (u'cameras', 17),\n",
       " (u'flash', 16),\n",
       " (u'pictures', 13),\n",
       " (u'quality', 12),\n",
       " (u'canon g3', 11),\n",
       " (u'photos', 11),\n",
       " (u'time', 11),\n",
       " (u'battery life', 9),\n",
       " (u'reviews', 8),\n",
       " (u'zoom', 8),\n",
       " (u'images', 8),\n",
       " (u'image', 7),\n",
       " (u'card', 7),\n",
       " (u'picture quality', 7)]"
      ]
     },
     "execution_count": 48,
     "metadata": {},
     "output_type": "execute_result"
    }
   ],
   "source": [
    "word_sorted = sorted(word_dict.items(), key=lambda tup:-tup[1])\n",
    "word_sorted[:15]"
   ]
  },
  {
   "cell_type": "markdown",
   "metadata": {},
   "source": [
    "## s5: save most frequent dynamic aspects"
   ]
  },
  {
   "cell_type": "code",
   "execution_count": 49,
   "metadata": {
    "collapsed": true
   },
   "outputs": [],
   "source": [
    "import json\n",
    "word_output = open('../data/word_list/{0}_wordlist.txt'.format(product_name), 'w')\n",
    "json.dump(word_sorted[:15], word_output)\n",
    "word_output.close()"
   ]
  },
  {
   "cell_type": "markdown",
   "metadata": {},
   "source": [
    "## s6: stemming analysis"
   ]
  },
  {
   "cell_type": "code",
   "execution_count": 50,
   "metadata": {
    "collapsed": false
   },
   "outputs": [],
   "source": [
    "from nltk.stem import SnowballStemmer\n",
    "stemmer = SnowballStemmer('english')"
   ]
  },
  {
   "cell_type": "code",
   "execution_count": 51,
   "metadata": {
    "collapsed": false
   },
   "outputs": [],
   "source": [
    "# collect word with same stem\n",
    "stemmedWord_dict = {}\n",
    "for word in word_dict:\n",
    "    stemmedWord = stemmer.stem(word)\n",
    "    if stemmedWord in stemmedWord_dict:\n",
    "        stemmedWord_dict[stemmedWord] += word_dict[word]\n",
    "    else:\n",
    "        stemmedWord_dict[stemmedWord] = word_dict[word]"
   ]
  },
  {
   "cell_type": "code",
   "execution_count": 52,
   "metadata": {
    "collapsed": false
   },
   "outputs": [
    {
     "data": {
      "text/plain": [
       "[(u'camera', 60),\n",
       " (u'flash', 21),\n",
       " (u'pictur', 15),\n",
       " (u'imag', 15),\n",
       " (u'qualiti', 12),\n",
       " (u'review', 12),\n",
       " (u'photo', 12),\n",
       " (u'time', 12),\n",
       " (u'canon g3', 11),\n",
       " (u'battery lif', 9),\n",
       " (u'set', 9),\n",
       " (u'zoom', 9),\n",
       " (u'card', 7),\n",
       " (u'thing', 7),\n",
       " (u'picture qu', 7)]"
      ]
     },
     "execution_count": 52,
     "metadata": {},
     "output_type": "execute_result"
    }
   ],
   "source": [
    "# frequency ranking\n",
    "stemmedWord_sorted = sorted(stemmedWord_dict.items(), key=lambda tup:-tup[1])\n",
    "stemmedWord_sorted[:15]"
   ]
  },
  {
   "cell_type": "code",
   "execution_count": 53,
   "metadata": {
    "collapsed": true
   },
   "outputs": [],
   "source": [
    "# save most frequent stemmed words\n",
    "stemmedWord_output = open('../data/word_list/{0}_stemmedwordlist.txt'.format(product_name), 'w')\n",
    "json.dump(stemmedWord_sorted[:15], stemmedWord_output)\n",
    "stemmedWord_output.close()"
   ]
  },
  {
   "cell_type": "markdown",
   "metadata": {},
   "source": [
    "## Next steps\n",
    "\n",
    "- use AmazonReviews data besides this Liu's dataset (see Part B)"
   ]
  },
  {
   "cell_type": "code",
   "execution_count": null,
   "metadata": {
    "collapsed": true
   },
   "outputs": [],
   "source": []
  }
 ],
 "metadata": {
  "kernelspec": {
   "display_name": "Python 2",
   "language": "python",
   "name": "python2"
  },
  "language_info": {
   "codemirror_mode": {
    "name": "ipython",
    "version": 2
   },
   "file_extension": ".py",
   "mimetype": "text/x-python",
   "name": "python",
   "nbconvert_exporter": "python",
   "pygments_lexer": "ipython2",
   "version": "2.7.11"
  }
 },
 "nbformat": 4,
 "nbformat_minor": 0
}
